{
 "cells": [
  {
   "cell_type": "code",
   "execution_count": 45,
   "metadata": {},
   "outputs": [
    {
     "name": "stdout",
     "output_type": "stream",
     "text": [
      "showing info https://raw.githubusercontent.com/nltk/nltk_data/gh-pages/index.xml\n"
     ]
    },
    {
     "data": {
      "text/plain": [
       "True"
      ]
     },
     "execution_count": 45,
     "metadata": {},
     "output_type": "execute_result"
    }
   ],
   "source": [
    "import os\n",
    "import xml.etree.ElementTree\n",
    "import nltk\n",
    "nltk.download()"
   ]
  },
  {
   "cell_type": "markdown",
   "metadata": {},
   "source": [
    "separar en sentences\n",
    "post tagging\n",
    "lematizar\n",
    "eliminar stop words\n",
    "\n",
    "todo esto por documento\n",
    "\n",
    "'AP881218-0003'"
   ]
  },
  {
   "cell_type": "code",
   "execution_count": null,
   "metadata": {},
   "outputs": [],
   "source": [
    "inputXML = './data/ap/ap.txt'\n",
    "e = xml.etree.ElementTree.parse(inputXML).getroot()\n",
    "docs = {}\n",
    "\n",
    "for elem in e.getchildren():\n",
    "    text = elem.find('TEXT').text\n",
    "    docno = elem.find('DOCNO').text.strip()\n",
    "    docs[docno] = text\n",
    "\n",
    "docs"
   ]
  },
  {
   "cell_type": "code",
   "execution_count": 7,
   "metadata": {},
   "outputs": [],
   "source": [
    "sentences_by_doc = {}\n",
    "\n",
    "for docno, text in docs.items():\n",
    "    sentences_by_doc[docno] = nltk.sent_tokenize(text)\n"
   ]
  },
  {
   "cell_type": "code",
   "execution_count": 36,
   "metadata": {},
   "outputs": [],
   "source": [
    "tags_by_doc = {}\n",
    "for docno, sentences in sentences_by_doc.items():\n",
    "    tagged_words = {}\n",
    "    for sentence in sentences:\n",
    "        tokens = nltk.word_tokenize(sentence)\n",
    "        tags = nltk.pos_tag(tokens)\n",
    "        for tag in tags:\n",
    "            tag_key = tag[1]\n",
    "            tag_value = tag[0]\n",
    "            tagged_words.setdefault(tag_key, [])\n",
    "            if (tag_value not in tagged_words[tag_key]):\n",
    "                tagged_words[tag_key].append(tag_value)\n",
    "                             \n",
    "    tags_by_doc[docno] = tagged_words\n",
    "    "
   ]
  },
  {
   "cell_type": "code",
   "execution_count": 56,
   "metadata": {
    "collapsed": true
   },
   "outputs": [],
   "source": [
    "from nltk.corpus import wordnet\n",
    "\n",
    "def get_wordnet_pos(tag):\n",
    "\n",
    "    if tag.startswith('J'):\n",
    "        return wordnet.ADJ\n",
    "    elif tag.startswith('V'):\n",
    "        return wordnet.VERB\n",
    "    elif tag.startswith('N'):\n",
    "        return wordnet.NOUN\n",
    "    elif tag.startswith('R'):\n",
    "        return wordnet.ADV\n",
    "    else:\n",
    "        return ''"
   ]
  },
  {
   "cell_type": "code",
   "execution_count": 57,
   "metadata": {},
   "outputs": [],
   "source": [
    "from nltk.stem.wordnet import WordNetLemmatizer\n",
    "\n",
    "lemmatizer = WordNetLemmatizer()\n",
    "lemmatizer.lemmatize('are', get_wordnet_pos('V'))\n",
    "\n",
    "\n",
    "lemmas_by_doc = {}\n",
    "for docno, tagged_words in tags_by_doc.items():\n",
    "    lemmas = set()\n",
    "    for tag, words in tagged_words.items():\n",
    "        wornet_pos = get_wordnet_pos(tag)\n",
    "        for word in words:\n",
    "            if wornet_pos:\n",
    "                lemma = lemmatizer.lemmatize(word, wornet_pos)\n",
    "            else:\n",
    "                lemma = lemmatizer.lemmatize(word)\n",
    "            lemmas.add(lemma)\n",
    "    lemmas_by_doc[docno] = lemmas\n",
    "    \n"
   ]
  },
  {
   "cell_type": "code",
   "execution_count": 70,
   "metadata": {},
   "outputs": [],
   "source": [
    "from nltk.corpus import stopwords\n",
    "\n",
    "stop_words = set(stopwords.words('english'))\n",
    "\n",
    "words_by_doc = {}\n",
    "for docno, lemmas in lemmas_by_doc.items():\n",
    "    words_by_doc[docno] = lemmas - stop_words\n",
    "    \n",
    "#words_by_doc['AP881218-0003']"
   ]
  },
  {
   "cell_type": "code",
   "execution_count": 87,
   "metadata": {},
   "outputs": [],
   "source": [
    "import functools\n",
    "\n",
    "vocabulary = sorted(functools.reduce(lambda x,y: x | y, words_by_doc.values()))"
   ]
  },
  {
   "cell_type": "code",
   "execution_count": 89,
   "metadata": {},
   "outputs": [
    {
     "name": "stdout",
     "output_type": "stream",
     "text": [
      "El tamaño del vocabulario es 41191\n"
     ]
    }
   ],
   "source": [
    "print(\"El tamaño del vocabulario es\", len(vocabulary))"
   ]
  },
  {
   "cell_type": "markdown",
   "metadata": {},
   "source": [
    "## 2)"
   ]
  },
  {
   "cell_type": "code",
   "execution_count": 102,
   "metadata": {
    "collapsed": true
   },
   "outputs": [],
   "source": [
    "from nltk.tokenize import wordpunct_tokenize\n",
    "\n",
    "punctuation = set(string.punctuation)\n",
    "tokens = []\n",
    "with open('./data/on-the-origin-of-species.txt') as file:  \n",
    "    data = file.read() \n",
    "    tokens = set(wordpunct_tokenize(data)) - punctuation"
   ]
  }
 ],
 "metadata": {
  "kernelspec": {
   "display_name": "Python 3",
   "language": "python",
   "name": "python3"
  },
  "language_info": {
   "codemirror_mode": {
    "name": "ipython",
    "version": 3
   },
   "file_extension": ".py",
   "mimetype": "text/x-python",
   "name": "python",
   "nbconvert_exporter": "python",
   "pygments_lexer": "ipython3",
   "version": "3.6.1"
  }
 },
 "nbformat": 4,
 "nbformat_minor": 2
}
