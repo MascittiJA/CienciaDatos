{
 "cells": [
  {
   "cell_type": "markdown",
   "metadata": {},
   "source": [
    "# Seminario de Ciencia de Datos\n",
    "\n",
    "## 2º Cuatrimestre de 2017\n",
    "\n",
    "## Módulo 6 - Procesamiento del Lenguaje Natural\n",
    "\n",
    "### Integrantes:\n",
    "\n",
    "- Mascitti, Julio Augusto - 954/11 - mascittija@gmail.com\n",
    "\n",
    "- Aleman, Damián - 377/10 - damianaleman@gmail.com\n",
    "\n",
    "- Guerson, Matias Carlos - 925/10 - matias.guerson@gmail.com"
   ]
  },
  {
   "cell_type": "code",
   "execution_count": 208,
   "metadata": {},
   "outputs": [],
   "source": [
    "import os\n",
    "import xml.etree.ElementTree\n",
    "import nltk\n",
    "from nltk.stem.wordnet import WordNetLemmatizer\n",
    "from nltk.corpus import wordnet\n",
    "from nltk.corpus import stopwords\n",
    "from nltk import bigrams\n",
    "from nltk.tokenize import wordpunct_tokenize\n",
    "import string\n",
    "import numpy as np\n",
    "import matplotlib.pyplot as plt\n",
    "import math\n",
    "import functools\n",
    "import random\n",
    "import operator as op\n",
    "import re\n",
    "from gensim import models, corpora\n",
    "import scipy as sp\n",
    "#nltk.download()"
   ]
  },
  {
   "cell_type": "markdown",
   "metadata": {},
   "source": [
    "## Asociación de palabras\n",
    "\n",
    "### 1) Levantar el corpus AP, separando cada noticia como un elemento distinto en un diccioinario"
   ]
  },
  {
   "cell_type": "code",
   "execution_count": 166,
   "metadata": {
    "collapsed": true
   },
   "outputs": [],
   "source": [
    "# Se escapearon los & en el archivo y se agregaron los tags <DOCS> para poder parsearlo como un xml\n",
    "inputXML = './data/ap/ap.txt'\n",
    "e = xml.etree.ElementTree.parse(inputXML).getroot()\n",
    "docs = {}\n",
    "\n",
    "for elem in e.getchildren():\n",
    "    text = elem.find('TEXT').text\n",
    "    docno = elem.find('DOCNO').text.strip()\n",
    "    docs[docno] = text\n",
    "\n",
    "#docs"
   ]
  },
  {
   "cell_type": "code",
   "execution_count": 165,
   "metadata": {
    "collapsed": true
   },
   "outputs": [],
   "source": [
    "def get_wordnet_pos(tag):\n",
    "\n",
    "    if tag.startswith('J'):\n",
    "        return wordnet.ADJ\n",
    "    elif tag.startswith('V'):\n",
    "        return wordnet.VERB\n",
    "    elif tag.startswith('N'):\n",
    "        return wordnet.NOUN\n",
    "    elif tag.startswith('R'):\n",
    "        return wordnet.ADV\n",
    "    else:\n",
    "        return None"
   ]
  },
  {
   "cell_type": "code",
   "execution_count": 183,
   "metadata": {},
   "outputs": [],
   "source": [
    "lemmatizer = WordNetLemmatizer()\n",
    "stop_words = stopwords.words('english') +  list(string.punctuation)\n",
    "vocabulary = {}\n",
    "bigrams_map = {}\n",
    "docs_words = {}\n",
    "\n",
    "for docno, text in docs.items():\n",
    "    docs_words[docno] = []\n",
    "    sentences = nltk.sent_tokenize(text)\n",
    "    for sentence in sentences:\n",
    "        tokens = nltk.word_tokenize(sentence)\n",
    "        \n",
    "        for bigram in bigrams(tokens):\n",
    "            if (bigram[0] not in stop_words) and (bigram[1] not in stop_words):\n",
    "                bigrams_map.setdefault((bigram[0], bigram[1]), 0)\n",
    "                bigrams_map.setdefault((bigram[1], bigram[0]), 0)\n",
    "                bigrams_map[bigram[0],bigram[1]] = bigrams_map[bigram[0],bigram[1]] + 1\n",
    "                bigrams_map[bigram[1],bigram[0]] = bigrams_map[bigram[1],bigram[0]] + 1\n",
    "        tags = nltk.pos_tag(tokens)\n",
    "        for word, tag in tags:\n",
    "            wornet_pos = get_wordnet_pos(tag)\n",
    "            if wornet_pos:\n",
    "                lemma = lemmatizer.lemmatize(word, wornet_pos)\n",
    "            else:\n",
    "                lemma = lemmatizer.lemmatize(word)\n",
    "            if lemma not in stop_words:\n",
    "                vocabulary.setdefault(lemma, 0)\n",
    "                vocabulary[lemma] = vocabulary[lemma] + 1\n",
    "                docs_words[docno].append(lemma.upper())\n"
   ]
  },
  {
   "cell_type": "markdown",
   "metadata": {},
   "source": [
    "### 2) Calcular el tamaño del vocabulario"
   ]
  },
  {
   "cell_type": "code",
   "execution_count": 23,
   "metadata": {},
   "outputs": [
    {
     "name": "stdout",
     "output_type": "stream",
     "text": [
      "El tamaño del vocabulario es 41169\n"
     ]
    }
   ],
   "source": [
    "print(\"El tamaño del vocabulario es\", len(vocabulary))"
   ]
  },
  {
   "cell_type": "markdown",
   "metadata": {},
   "source": [
    "### 3) Para las 500 palabras con más apareiciones, calcular el par más asociado según la medida presentada"
   ]
  },
  {
   "cell_type": "code",
   "execution_count": 24,
   "metadata": {},
   "outputs": [
    {
     "name": "stdout",
     "output_type": "stream",
     "text": [
      "say , officials\n",
      "`` , I\n",
      "'' , said\n",
      "'s , It\n",
      "The , ``\n",
      "year , last\n",
      "would , n't\n",
      "I , ``\n",
      "percent , 20\n",
      "He , said\n",
      "million , shares\n",
      "n't , ca\n",
      "people , million\n",
      "one , said\n",
      "also , said\n",
      "government , 's\n",
      "make , sure\n",
      "It , ``\n",
      "U.S. , District\n",
      "In , ``\n",
      "two , years\n",
      "official , said\n",
      "report , said\n",
      "last , year\n",
      "go , would\n",
      "take , place\n",
      "But , ``\n",
      "A , ``\n",
      "time , first\n",
      "state , 's\n",
      "could , n't\n",
      "Bush , 's\n",
      "We , ``\n",
      "include , would\n",
      "new , The\n",
      "get , n't\n",
      "day , one\n",
      "first , time\n",
      "tell , n't\n",
      "Soviet , Union\n",
      "week , last\n",
      "New , York\n",
      "United , States\n",
      "company , 's\n",
      "use , drug\n",
      "call , 's\n",
      "billion , 1\n",
      "work , n't\n",
      "month , last\n",
      "country , 's\n",
      "give , would\n",
      "come , n't\n",
      "today , said\n",
      "plan , 's\n",
      "president , vice\n",
      "police , said\n",
      "Thursday , said\n",
      "American , people\n",
      "three , years\n",
      "group , The\n",
      "States , United\n",
      "since , time\n",
      "Tuesday , said\n",
      "market , stock\n",
      "member , states\n",
      "price , bid\n",
      "President , Bush\n",
      "issue , The\n",
      "Monday , said\n",
      "Friday , said\n",
      "high , school\n",
      "force , task\n",
      "Wednesday , said\n",
      "They , ``\n",
      "know , n't\n",
      "think , I\n",
      "want , n't\n",
      "find , n't\n",
      "begin , would\n",
      "charge , possession\n",
      "leader , Soviet\n",
      "home , 's\n",
      "end , 's\n",
      "York , New\n",
      "leave , would\n",
      "show , air\n",
      "hold , would\n",
      "case , The\n",
      "program , 's\n",
      "kill , us\n",
      "good , pretty\n",
      "help , would\n",
      "military , U.S.\n",
      "support , 's\n",
      "increase , percent\n",
      "nation , 's\n",
      "House , White\n",
      "right , 's\n",
      "see , n't\n",
      "federal , government\n",
      "late , Thursday\n",
      "order , court\n",
      "many , people\n",
      "vote , would\n",
      "talk , show\n",
      "city , 's\n",
      "ask , I\n",
      "rate , annual\n",
      "expect , I\n",
      "back , go\n",
      "part , take\n",
      "political , parties\n",
      "former , The\n",
      "way , best\n",
      "spokesman , said\n",
      "campaign , 's\n",
      "party , 's\n",
      "court , The\n",
      "pay , would\n",
      "trade , deficit\n",
      "rise , percent\n",
      "news , conference\n",
      "close , 's\n",
      "law , The\n",
      "like , would\n",
      "Department , Justice\n",
      "10 , years\n",
      "move , The\n",
      "business , 's\n",
      "early , trading\n",
      "try , would\n",
      "National , The\n",
      "West , German\n",
      "office , 's\n",
      "release , 's\n",
      "There , ``\n",
      "South , Africa\n",
      "return , home\n",
      "child , care\n",
      "lead , could\n",
      "family , 's\n",
      "dollar , The\n",
      "change , would\n",
      "next , year\n",
      "offer , tender\n",
      "1 , million\n",
      "system , immune\n",
      "continue , would\n",
      "area , wide\n",
      "point , percentage\n",
      "still , 's\n",
      "large , part\n",
      "allow , would\n",
      "problem , The\n",
      "share , per\n",
      "worker , social\n",
      "'re , We\n",
      "woman , 's\n",
      "Dukakis , Michael\n",
      "become , would\n",
      "Congress , National\n",
      "much , across\n",
      "four , years\n",
      "Reagan , President\n",
      "meeting , annual\n",
      "money , The\n",
      "need , n't\n",
      "may , ``\n",
      "bill , The\n",
      "sale , The\n",
      "... , We\n",
      "drug , trafficking\n",
      "fire , opened\n",
      "number , The\n",
      "meet , would\n",
      "believe , n't\n",
      "five , years\n",
      "economic , growth\n",
      "cent , higher\n",
      "several , months\n",
      "accord , peace\n",
      "stock , market\n",
      "run , would\n",
      "agreement , The\n",
      "Gorbachev , 's\n",
      "ago , years\n",
      "receive , would\n",
      "death , penalty\n",
      "statement , said\n",
      "public , made\n",
      "look , forward\n",
      "control , arms\n",
      "tax , income\n",
      "election , presidential\n",
      "decision , 's\n",
      "Washington , In\n",
      "John , Paul\n",
      "least , At\n",
      "night , Monday\n",
      "That , 's\n",
      "record , high\n",
      "world , 's\n",
      "administration , Reagan\n",
      "head , former\n",
      "attack , heart\n",
      "job , 's\n",
      "Mrs. , ''\n",
      "win , n't\n",
      "set , aside\n",
      "interest , rates\n",
      "major , 's\n",
      "remain , would\n",
      "service , community\n",
      "claim , 's\n",
      "sell , would\n",
      "student , leaders\n",
      "low , 's\n",
      "If , ``\n",
      "Union , Soviet\n",
      "condition , serious\n",
      "even , though\n",
      "later , days\n",
      "chief , executive\n",
      "agency , news\n",
      "seek , would\n",
      "another , In\n",
      "oil , prices\n",
      "mile , half\n",
      "name , 's\n",
      "Sunday , said\n",
      "keep , help\n",
      "put , would\n",
      "school , high\n",
      "open , door\n",
      "long , time\n",
      "cause , The\n",
      "This , ``\n",
      "authority , backup\n",
      "arrest , warrant\n",
      "die , annually\n",
      "announce , would\n",
      "policy , foreign\n",
      "life , 's\n",
      "bring , would\n",
      "among , support\n",
      "Senate , The\n",
      "East , Middle\n",
      "cost , would\n",
      "man , The\n",
      "director , executive\n",
      "security , national\n",
      "20 , percent\n",
      "provide , would\n",
      "national , security\n",
      "add , would\n",
      "face , value\n",
      "well , going\n",
      "whether , decide\n",
      "place , took\n",
      "At , least\n",
      "hour , half\n",
      "decline , 's\n",
      "cut , would\n",
      "30 , industrials\n",
      "future , 's\n",
      "without , ``\n",
      "war , civil\n",
      "power , 's\n",
      "officer , executive\n",
      "rule , would\n",
      "1987 , June\n",
      "agree , n't\n",
      "foreign , aid\n",
      "lose , would\n",
      "defense , minister\n",
      "follow , would\n",
      "question , whether\n",
      "start , looking\n",
      "bank , central\n",
      "send , would\n",
      "sign , n't\n",
      "result , could\n",
      "must , We\n",
      "She , said\n",
      "On , Monday\n",
      "And , ``\n",
      "demand , 's\n",
      "black , first\n",
      "attorney , general\n",
      "past , two\n",
      "trial , 's\n",
      "2 , Aug.\n",
      "consider , would\n",
      "Democratic , Party\n",
      "second , quarter\n",
      "contract , The\n",
      "Saturday , said\n",
      "effort , 's\n",
      "base , air\n",
      "economy , 's\n",
      "April , 8\n",
      "industry , 's\n",
      "test , results\n",
      "might , It\n",
      "Inc. , ``\n",
      "troop , U.S.\n",
      "reporter , said\n",
      "six , months\n",
      "total , A\n",
      "Iraq , 's\n",
      "live , hogs\n",
      "far , So\n",
      "plant , assembly\n",
      "big , ``\n",
      "Republican , National\n",
      "North , Korea\n",
      "raise , money\n",
      "15 , percent\n",
      "newspaper , said\n",
      "carry , life\n",
      "thing , one\n",
      "around , Temperatures\n",
      "America , 's\n",
      "Germany , West\n",
      "speak , English\n",
      "deal , great\n",
      "Corp. , Motors\n",
      "source , said\n",
      "car , 's\n",
      "men , two\n",
      "1986 , February\n",
      "Party , Communist\n",
      "appear , n't\n",
      "union , 's\n",
      "never , I\n",
      "prison , federal\n",
      "small , children\n",
      "write , helped\n",
      "employee , stock\n",
      "reach , could\n",
      "Committee , Central\n",
      "Co. , Motor\n",
      "turn , n't\n",
      "strike , general\n",
      "involve , would\n",
      "chairman , vice\n",
      "City , York\n",
      "action , political\n",
      "1988 , December\n",
      "'ve , I\n",
      "less , likely\n",
      "estimate , officials\n",
      "budget , deficit\n",
      "aid , foreign\n",
      "State , Department\n",
      "board , 's\n",
      "June , 1\n",
      "March , 31\n",
      "interview , telephone\n",
      "general , attorney\n",
      "German , West\n",
      "committee , The\n",
      "concern , expressed\n",
      "buy , one\n",
      "No , ``\n",
      "Ms. , ''\n",
      "near , future\n",
      "Japan , 's\n",
      "recent , years\n",
      "file , papers\n",
      "Court , Supreme\n",
      "study , The\n",
      "refuse , would\n",
      "require , would\n",
      "Police , said\n",
      "top , 's\n",
      "break , tax\n",
      "California , 's\n",
      "conference , news\n",
      "measure , The\n",
      "side , one\n",
      "May , since\n",
      "executive , chief\n",
      "fight , would\n",
      "'m , I\n",
      "1989 , June\n",
      "plane , The\n",
      "accuse , Critics\n",
      "great , deal\n",
      "average , Jones\n",
      "away , miles\n",
      "fell , prices\n",
      "gain , percent\n",
      "judge , The\n",
      "White , House\n",
      "Sen. , said\n",
      "Jackson , Jesse\n",
      "visit , 's\n",
      "University , State\n",
      "comment , immediate\n",
      "proposal , 's\n",
      "air , force\n",
      "fall , last\n",
      "schedule , behind\n",
      "3 , percent\n",
      "investigation , 's\n",
      "One , ``\n",
      "candidate , presidential\n",
      "spend , would\n",
      "trading , early\n",
      "water , drinking\n",
      "line , bottom\n",
      "presidential , candidate\n",
      "July , 1\n",
      "wife , 's\n",
      "fail , would\n",
      "free , elections\n",
      "Israel , 's\n",
      "whose , name\n",
      "stop , n't\n",
      "strong , 's\n",
      "12 , years\n",
      "earlier , year\n",
      "building , office\n",
      "vice , president\n",
      "capital , 's\n",
      "house , 's\n",
      "As , ``\n",
      "food , prices\n",
      "Europe , Eastern\n",
      "Some , ``\n",
      "note , The\n",
      "George , Bush\n",
      "damage , serious\n",
      "serve , may\n",
      "drop , percent\n",
      "little , bit\n",
      "General , Attorney\n",
      "level , high\n",
      "term , prison\n",
      "information , services\n",
      "hospital , spokeswoman\n",
      "sentence , death\n",
      "form , every\n",
      "television , 's\n",
      "Minister , Prime\n",
      "fund , trust\n",
      "minister , prime\n",
      "others , But\n",
      "operation , sting\n",
      "5 , percent\n",
      "When , ``\n",
      "soldier , The\n",
      "value , market\n",
      "San , Francisco\n",
      "position , 's\n",
      "opposition , parties\n",
      "James , A.\n",
      "Africa , South\n",
      "outside , gathered\n",
      "Robert , said\n",
      "Air , Force\n",
      "already , 've\n",
      "product , national\n",
      "100 , million\n",
      "decide , whether\n",
      "private , economists\n",
      "across , much\n",
      "victim , The\n",
      "Communist , Party\n",
      "figure , 's\n",
      "enough , money\n",
      "mean , would\n",
      "human , rights\n",
      "protest , The\n",
      "Rep. , said\n",
      "body , 's\n",
      "arm , right\n",
      "grow , could\n",
      "nearly , two\n",
      "play , sand\n",
      "London , In\n",
      "appeal , would\n",
      "stand , trial\n",
      "Texas , West\n",
      "analyst , said\n",
      "town , 's\n",
      "An , estimated\n",
      "community , service\n",
      "drive , 's\n",
      "approve , must\n",
      "rebel , forces\n",
      "shoot , would\n",
      "local , governments\n",
      "reduce , would\n",
      "along , go\n",
      "County , Sheriff\n",
      "step , toward\n",
      "25 , percent\n"
     ]
    }
   ],
   "source": [
    "first_500 = list(map(lambda x: x[0], sorted(vocabulary.items(), key=lambda x: x[1], reverse=True)[:500]))\n",
    "ordered_bigrams = sorted(bigrams_map.items(), key=lambda x: x[1], reverse=True)\n",
    "\n",
    "for word in first_500:\n",
    "    for bigram_entry in ordered_bigrams:\n",
    "        if bigram_entry[0][0] == word:\n",
    "            print(word, \",\", bigram_entry[0][1])\n",
    "            break\n"
   ]
  },
  {
   "cell_type": "markdown",
   "metadata": {},
   "source": [
    "## Informació Léxica\n",
    "\n",
    "### 1) Procesar el texto, tokenizando eliminando signos de puntuación"
   ]
  },
  {
   "cell_type": "code",
   "execution_count": 139,
   "metadata": {},
   "outputs": [
    {
     "name": "stdout",
     "output_type": "stream",
     "text": [
      "209609\n"
     ]
    }
   ],
   "source": [
    "punctuation = list(string.punctuation)\n",
    "tokens = []\n",
    "with open('./data/on-the-origin-of-species.txt') as file:  \n",
    "    data = file.read() \n",
    "    tokens = list(filter(lambda x: x not in punctuation, nltk.word_tokenize(data)))\n",
    "    #tokens2 = list(nltk.word_tokenize(data))\n",
    "    \n",
    "print(len(tokens))\n",
    "#print(len(tokens2))"
   ]
  },
  {
   "cell_type": "markdown",
   "metadata": {},
   "source": [
    "### 2) Siguiendo el articulo de la sección, calcular la autocorrelacion para estimar la distribución de la palabra a lo largo del texto"
   ]
  },
  {
   "cell_type": "code",
   "execution_count": 11,
   "metadata": {},
   "outputs": [],
   "source": [
    "words = ['plants', 'instinct', 'for']\n",
    "\n",
    "def generate_apparitions_vector(word,tokens):\n",
    "    return [i for i, x in enumerate(tokens) if x == word]\n",
    "\n",
    "std = 50\n",
    "std_square = std ** 2\n",
    "twice_std_square = 2 * std_square\n",
    "denominator = np.sqrt(2 * np.pi) * std\n",
    "\n",
    "def gaussian(x):\n",
    "    x_square = x ** 2 \n",
    "    exp = (-1) * (x_square / twice_std_square) \n",
    "    numerator = np.e ** exp\n",
    "    return numerator / denominator\n",
    "\n",
    "text_size = len(tokens)\n",
    "gaussians = {}\n",
    "for i in range(text_size):\n",
    "    gaussians[i] = gaussian(i)\n",
    "    gaussians[-i] = gaussian(-i)\n",
    "    \n",
    "def ro_w(t, apparitions):\n",
    "    sum = 0\n",
    "    for i in apparitions:\n",
    "        sum += gaussians[t - i]\n",
    "    return sum\n",
    "\n",
    "def plot_apparitions_from(word, ro_vector):\n",
    "    a = [ro_vector[i] for i in range(text_size)]\n",
    "    plt.plot(a)\n",
    "    plt.title('Apariciones de ' + word)\n",
    "    plt.xlabel('Posición del texto')\n",
    "    plt.ylabel('Rate')\n",
    "    plt.show()\n",
    "    \n",
    "    \n",
    "def calcular_autocorrelacion(tau,ro_vector):\n",
    "    tamanio = text_size - tau\n",
    "\n",
    "    acum_ro_i = 0\n",
    "    acum_ro_it = 0\n",
    "    acum_ro_i_it = 0\n",
    "    acum_ro_i_2 = 0\n",
    "    \n",
    "    for i in range(tamanio):\n",
    "        ro_i = ro_vector[i]\n",
    "        ro_it = ro_vector[i+tau]\n",
    "\n",
    "        acum_ro_i += ro_i\n",
    "        acum_ro_it += ro_it\n",
    "        acum_ro_i_it += ro_i * ro_it\n",
    "\n",
    "        acum_ro_i_2 += ro_i ** 2\n",
    "\n",
    "    prom_ro_i_it = acum_ro_i_it / tamanio\n",
    "    prom_ro_i = acum_ro_i / tamanio\n",
    "    prom_ro_it = acum_ro_it / tamanio\n",
    "    prom_ro_i_2 = acum_ro_i_2 / tamanio\n",
    "    square_prom_ro_i = prom_ro_i ** 2\n",
    "    \n",
    "    autocorrelacion = (prom_ro_i_it - (prom_ro_i * prom_ro_it)) / (prom_ro_i_2 - square_prom_ro_i)\n",
    "    return autocorrelacion\n",
    "\n",
    "def plot_autocorrelation_from(word, ro_vector):\n",
    "    rangos = np.arange(0, 10000, 50) #[10, 50, 100, 250, 500, 750, 1000]\n",
    "\n",
    "    a = [calcular_autocorrelacion(tao,ro_vector) for tao in rangos]\n",
    "    plt.plot(a)\n",
    "    plt.title('Autocorrelación de ' + word)\n",
    "    plt.xlabel('Posición del texto')\n",
    "    plt.ylabel('Autocorrelación')\n",
    "    plt.show()\n",
    "    \n",
    "    \n",
    "def calculate_ro_vector(apparitions):\n",
    "    ro_vector = [ro_w(i, apparitions) for i in range(text_size)]\n",
    "    return ro_vector\n",
    "\n",
    "\n",
    "def graficos(words,tokens):\n",
    "    for word in words:\n",
    "        apparitions = generate_apparitions_vector(word,tokens)\n",
    "\n",
    "        ro_vector = calculate_ro_vector(apparitions)\n",
    "        \n",
    "        plot_apparitions_from(word, ro_vector)\n",
    "        plot_autocorrelation_from(word, ro_vector)"
   ]
  },
  {
   "cell_type": "code",
   "execution_count": 12,
   "metadata": {},
   "outputs": [
    {
     "data": {
      "image/png": "[encoded data removed]",
      "text/plain": [
       "<matplotlib.figure.Figure at 0x7f27810fca90>"
      ]
     },
     "metadata": {},
     "output_type": "display_data"
    },
    {
     "data": {
      "image/png": "[encoded data removed]",
      "text/plain": [
       "<matplotlib.figure.Figure at 0x7f278117ba20>"
      ]
     },
     "metadata": {},
     "output_type": "display_data"
    },
    {
     "data": {
      "image/png": "[encoded data removed]",
      "text/plain": [
       "<matplotlib.figure.Figure at 0x7f278119ab00>"
      ]
     },
     "metadata": {},
     "output_type": "display_data"
    },
    {
     "data": {
      "image/png": "[encoded data removed]",
      "text/plain": [
       "<matplotlib.figure.Figure at 0x7f2780d43748>"
      ]
     },
     "metadata": {},
     "output_type": "display_data"
    },
    {
     "data": {
      "image/png": "[encoded data removed]",
      "text/plain": [
       "<matplotlib.figure.Figure at 0x7f278062fcc0>"
      ]
     },
     "metadata": {},
     "output_type": "display_data"
    },
    {
     "data": {
      "image/png": "[encoded data removed]",
      "text/plain": [
       "<matplotlib.figure.Figure at 0x7f2780b6d668>"
      ]
     },
     "metadata": {},
     "output_type": "display_data"
    }
   ],
   "source": [
    "graficos(words,tokens)"
   ]
  },
  {
   "cell_type": "markdown",
   "metadata": {},
   "source": [
    "### 3) Calcular la entropía de una selección de 100 palabras que abarquen el rango de frecuencia de aparición en el libro, es decir, elegir palabras que son muy frecuentes y otras de baja frecuencia"
   ]
  },
  {
   "cell_type": "code",
   "execution_count": 92,
   "metadata": {
    "collapsed": true
   },
   "outputs": [],
   "source": [
    "def calcular_particiones(apparitions,i,cota):\n",
    "    return len(list(filter(lambda x: i*cota <= x < (i+1)*cota, apparitions)))\n",
    "\n",
    "def H(apparitions, P, longitud_P, n):\n",
    "    ocurrencias = [calcular_particiones(apparitions, i, longitud_P) for i in range(P)] \n",
    "    acum = 0\n",
    "    for i in range(P):\n",
    "        calculo = ocurrencias[i] / n\n",
    "        if calculo != 0:\n",
    "            acum += calculo * math.log2(calculo)\n",
    "    \n",
    "    return - acum\n",
    "\n",
    "def entropy(word,tokens):\n",
    "    apparitions = generate_apparitions_vector(word,tokens)\n",
    "\n",
    "    N = text_size\n",
    "    P = 64\n",
    "    longitud_P = N // P\n",
    "    \n",
    "    n = len(apparitions)\n",
    "\n",
    "    return n, H(apparitions, P, longitud_P, n)\n",
    "    \n",
    "def entropy_plot(palabras, tokens):\n",
    "    a = [entropy(w, tokens) for w in palabras]\n",
    "    plt.scatter([x[0] for x in a], [x[1] for x in a], s=3)\n",
    "    plt.xscale(\"log\", nonposx='clip')\n",
    "    plt.show()\n"
   ]
  },
  {
   "cell_type": "code",
   "execution_count": 14,
   "metadata": {
    "collapsed": true
   },
   "outputs": [],
   "source": [
    "app_dicc = {}\n",
    "\n",
    "for w in set(tokens):\n",
    "    app_dicc[w] = len(generate_apparitions_vector(w,tokens))\n",
    "    \n",
    "apariciones = sorted(app_dicc.items(), key=lambda x:x[1])\n",
    "\n",
    "\n"
   ]
  },
  {
   "cell_type": "code",
   "execution_count": 222,
   "metadata": {
    "collapsed": true
   },
   "outputs": [],
   "source": [
    "# Tomamos las 100 palabras de manera tal que representen el rango completo de fecuencias de palabras\n",
    "# desde la de menor cantidad de aparicione, hasta la mayor, pasando por todos los valores intermedios\n",
    "palabras = [apariciones[i][0] for i in np.arange(0, len(apariciones), len(apariciones)//100)]"
   ]
  },
  {
   "cell_type": "code",
   "execution_count": 16,
   "metadata": {
    "collapsed": true
   },
   "outputs": [],
   "source": [
    "palabras2 = [p[0] for p in apariciones[-2000:]]"
   ]
  },
  {
   "cell_type": "code",
   "execution_count": 223,
   "metadata": {},
   "outputs": [
    {
     "ename": "ZeroDivisionError",
     "evalue": "division by zero",
     "output_type": "error",
     "traceback": [
      "\u001b[0;31m---------------------------------------------------------------------------\u001b[0m",
      "\u001b[0;31mZeroDivisionError\u001b[0m                         Traceback (most recent call last)",
      "\u001b[0;32m<ipython-input-223-da04046b5bfb>\u001b[0m in \u001b[0;36m<module>\u001b[0;34m()\u001b[0m\n\u001b[0;32m----> 1\u001b[0;31m \u001b[0mentropy_plot\u001b[0m\u001b[0;34m(\u001b[0m\u001b[0mpalabras\u001b[0m\u001b[0;34m,\u001b[0m\u001b[0mtokens\u001b[0m\u001b[0;34m)\u001b[0m\u001b[0;34m\u001b[0m\u001b[0m\n\u001b[0m\u001b[1;32m      2\u001b[0m \u001b[0;31m#entropy_plot(palabras2,tokens)\u001b[0m\u001b[0;34m\u001b[0m\u001b[0;34m\u001b[0m\u001b[0m\n",
      "\u001b[0;32m<ipython-input-92-2ed690ea9383>\u001b[0m in \u001b[0;36mentropy_plot\u001b[0;34m(palabras, tokens)\u001b[0m\n\u001b[1;32m     24\u001b[0m \u001b[0;34m\u001b[0m\u001b[0m\n\u001b[1;32m     25\u001b[0m \u001b[0;32mdef\u001b[0m \u001b[0mentropy_plot\u001b[0m\u001b[0;34m(\u001b[0m\u001b[0mpalabras\u001b[0m\u001b[0;34m,\u001b[0m \u001b[0mtokens\u001b[0m\u001b[0;34m)\u001b[0m\u001b[0;34m:\u001b[0m\u001b[0;34m\u001b[0m\u001b[0m\n\u001b[0;32m---> 26\u001b[0;31m     \u001b[0ma\u001b[0m \u001b[0;34m=\u001b[0m \u001b[0;34m[\u001b[0m\u001b[0mentropy\u001b[0m\u001b[0;34m(\u001b[0m\u001b[0mw\u001b[0m\u001b[0;34m,\u001b[0m \u001b[0mtokens\u001b[0m\u001b[0;34m)\u001b[0m \u001b[0;32mfor\u001b[0m \u001b[0mw\u001b[0m \u001b[0;32min\u001b[0m \u001b[0mpalabras\u001b[0m\u001b[0;34m]\u001b[0m\u001b[0;34m\u001b[0m\u001b[0m\n\u001b[0m\u001b[1;32m     27\u001b[0m     \u001b[0mplt\u001b[0m\u001b[0;34m.\u001b[0m\u001b[0mscatter\u001b[0m\u001b[0;34m(\u001b[0m\u001b[0;34m[\u001b[0m\u001b[0mx\u001b[0m\u001b[0;34m[\u001b[0m\u001b[0;36m0\u001b[0m\u001b[0;34m]\u001b[0m \u001b[0;32mfor\u001b[0m \u001b[0mx\u001b[0m \u001b[0;32min\u001b[0m \u001b[0ma\u001b[0m\u001b[0;34m]\u001b[0m\u001b[0;34m,\u001b[0m \u001b[0;34m[\u001b[0m\u001b[0mx\u001b[0m\u001b[0;34m[\u001b[0m\u001b[0;36m1\u001b[0m\u001b[0;34m]\u001b[0m \u001b[0;32mfor\u001b[0m \u001b[0mx\u001b[0m \u001b[0;32min\u001b[0m \u001b[0ma\u001b[0m\u001b[0;34m]\u001b[0m\u001b[0;34m,\u001b[0m \u001b[0ms\u001b[0m\u001b[0;34m=\u001b[0m\u001b[0;36m3\u001b[0m\u001b[0;34m)\u001b[0m\u001b[0;34m\u001b[0m\u001b[0m\n\u001b[1;32m     28\u001b[0m     \u001b[0mplt\u001b[0m\u001b[0;34m.\u001b[0m\u001b[0mxscale\u001b[0m\u001b[0;34m(\u001b[0m\u001b[0;34m\"log\"\u001b[0m\u001b[0;34m,\u001b[0m \u001b[0mnonposx\u001b[0m\u001b[0;34m=\u001b[0m\u001b[0;34m'clip'\u001b[0m\u001b[0;34m)\u001b[0m\u001b[0;34m\u001b[0m\u001b[0m\n",
      "\u001b[0;32m<ipython-input-92-2ed690ea9383>\u001b[0m in \u001b[0;36m<listcomp>\u001b[0;34m(.0)\u001b[0m\n\u001b[1;32m     24\u001b[0m \u001b[0;34m\u001b[0m\u001b[0m\n\u001b[1;32m     25\u001b[0m \u001b[0;32mdef\u001b[0m \u001b[0mentropy_plot\u001b[0m\u001b[0;34m(\u001b[0m\u001b[0mpalabras\u001b[0m\u001b[0;34m,\u001b[0m \u001b[0mtokens\u001b[0m\u001b[0;34m)\u001b[0m\u001b[0;34m:\u001b[0m\u001b[0;34m\u001b[0m\u001b[0m\n\u001b[0;32m---> 26\u001b[0;31m     \u001b[0ma\u001b[0m \u001b[0;34m=\u001b[0m \u001b[0;34m[\u001b[0m\u001b[0mentropy\u001b[0m\u001b[0;34m(\u001b[0m\u001b[0mw\u001b[0m\u001b[0;34m,\u001b[0m \u001b[0mtokens\u001b[0m\u001b[0;34m)\u001b[0m \u001b[0;32mfor\u001b[0m \u001b[0mw\u001b[0m \u001b[0;32min\u001b[0m \u001b[0mpalabras\u001b[0m\u001b[0;34m]\u001b[0m\u001b[0;34m\u001b[0m\u001b[0m\n\u001b[0m\u001b[1;32m     27\u001b[0m     \u001b[0mplt\u001b[0m\u001b[0;34m.\u001b[0m\u001b[0mscatter\u001b[0m\u001b[0;34m(\u001b[0m\u001b[0;34m[\u001b[0m\u001b[0mx\u001b[0m\u001b[0;34m[\u001b[0m\u001b[0;36m0\u001b[0m\u001b[0;34m]\u001b[0m \u001b[0;32mfor\u001b[0m \u001b[0mx\u001b[0m \u001b[0;32min\u001b[0m \u001b[0ma\u001b[0m\u001b[0;34m]\u001b[0m\u001b[0;34m,\u001b[0m \u001b[0;34m[\u001b[0m\u001b[0mx\u001b[0m\u001b[0;34m[\u001b[0m\u001b[0;36m1\u001b[0m\u001b[0;34m]\u001b[0m \u001b[0;32mfor\u001b[0m \u001b[0mx\u001b[0m \u001b[0;32min\u001b[0m \u001b[0ma\u001b[0m\u001b[0;34m]\u001b[0m\u001b[0;34m,\u001b[0m \u001b[0ms\u001b[0m\u001b[0;34m=\u001b[0m\u001b[0;36m3\u001b[0m\u001b[0;34m)\u001b[0m\u001b[0;34m\u001b[0m\u001b[0m\n\u001b[1;32m     28\u001b[0m     \u001b[0mplt\u001b[0m\u001b[0;34m.\u001b[0m\u001b[0mxscale\u001b[0m\u001b[0;34m(\u001b[0m\u001b[0;34m\"log\"\u001b[0m\u001b[0;34m,\u001b[0m \u001b[0mnonposx\u001b[0m\u001b[0;34m=\u001b[0m\u001b[0;34m'clip'\u001b[0m\u001b[0;34m)\u001b[0m\u001b[0;34m\u001b[0m\u001b[0m\n",
      "\u001b[0;32m<ipython-input-92-2ed690ea9383>\u001b[0m in \u001b[0;36mentropy\u001b[0;34m(word, tokens)\u001b[0m\n\u001b[1;32m     21\u001b[0m     \u001b[0mn\u001b[0m \u001b[0;34m=\u001b[0m \u001b[0mlen\u001b[0m\u001b[0;34m(\u001b[0m\u001b[0mapparitions\u001b[0m\u001b[0;34m)\u001b[0m\u001b[0;34m\u001b[0m\u001b[0m\n\u001b[1;32m     22\u001b[0m \u001b[0;34m\u001b[0m\u001b[0m\n\u001b[0;32m---> 23\u001b[0;31m     \u001b[0;32mreturn\u001b[0m \u001b[0mn\u001b[0m\u001b[0;34m,\u001b[0m \u001b[0mH\u001b[0m\u001b[0;34m(\u001b[0m\u001b[0mapparitions\u001b[0m\u001b[0;34m,\u001b[0m \u001b[0mP\u001b[0m\u001b[0;34m,\u001b[0m \u001b[0mlongitud_P\u001b[0m\u001b[0;34m,\u001b[0m \u001b[0mn\u001b[0m\u001b[0;34m)\u001b[0m\u001b[0;34m\u001b[0m\u001b[0m\n\u001b[0m\u001b[1;32m     24\u001b[0m \u001b[0;34m\u001b[0m\u001b[0m\n\u001b[1;32m     25\u001b[0m \u001b[0;32mdef\u001b[0m \u001b[0mentropy_plot\u001b[0m\u001b[0;34m(\u001b[0m\u001b[0mpalabras\u001b[0m\u001b[0;34m,\u001b[0m \u001b[0mtokens\u001b[0m\u001b[0;34m)\u001b[0m\u001b[0;34m:\u001b[0m\u001b[0;34m\u001b[0m\u001b[0m\n",
      "\u001b[0;32m<ipython-input-92-2ed690ea9383>\u001b[0m in \u001b[0;36mH\u001b[0;34m(apparitions, P, longitud_P, n)\u001b[0m\n\u001b[1;32m      6\u001b[0m     \u001b[0macum\u001b[0m \u001b[0;34m=\u001b[0m \u001b[0;36m0\u001b[0m\u001b[0;34m\u001b[0m\u001b[0m\n\u001b[1;32m      7\u001b[0m     \u001b[0;32mfor\u001b[0m \u001b[0mi\u001b[0m \u001b[0;32min\u001b[0m \u001b[0mrange\u001b[0m\u001b[0;34m(\u001b[0m\u001b[0mP\u001b[0m\u001b[0;34m)\u001b[0m\u001b[0;34m:\u001b[0m\u001b[0;34m\u001b[0m\u001b[0m\n\u001b[0;32m----> 8\u001b[0;31m         \u001b[0mcalculo\u001b[0m \u001b[0;34m=\u001b[0m \u001b[0mocurrencias\u001b[0m\u001b[0;34m[\u001b[0m\u001b[0mi\u001b[0m\u001b[0;34m]\u001b[0m \u001b[0;34m/\u001b[0m \u001b[0mn\u001b[0m\u001b[0;34m\u001b[0m\u001b[0m\n\u001b[0m\u001b[1;32m      9\u001b[0m         \u001b[0;32mif\u001b[0m \u001b[0mcalculo\u001b[0m \u001b[0;34m!=\u001b[0m \u001b[0;36m0\u001b[0m\u001b[0;34m:\u001b[0m\u001b[0;34m\u001b[0m\u001b[0m\n\u001b[1;32m     10\u001b[0m             \u001b[0macum\u001b[0m \u001b[0;34m+=\u001b[0m \u001b[0mcalculo\u001b[0m \u001b[0;34m*\u001b[0m \u001b[0mmath\u001b[0m\u001b[0;34m.\u001b[0m\u001b[0mlog2\u001b[0m\u001b[0;34m(\u001b[0m\u001b[0mcalculo\u001b[0m\u001b[0;34m)\u001b[0m\u001b[0;34m\u001b[0m\u001b[0m\n",
      "\u001b[0;31mZeroDivisionError\u001b[0m: division by zero"
     ]
    }
   ],
   "source": [
    "entropy_plot(palabras,tokens)\n",
    "#entropy_plot(palabras2,tokens)"
   ]
  },
  {
   "cell_type": "markdown",
   "metadata": {},
   "source": [
    "### 4) Calcular la entropíade las palabras seleccionadas anteriormente, randomizando su posición en el texto. Compara los resultados con el punto anterior"
   ]
  },
  {
   "cell_type": "code",
   "execution_count": 140,
   "metadata": {},
   "outputs": [],
   "source": [
    "random_tokens = list(tokens)\n",
    "random.shuffle(random_tokens)\n",
    "random.shuffle(random_tokens)\n",
    "random.shuffle(random_tokens)\n",
    "random.shuffle(random_tokens)\n",
    "random.shuffle(random_tokens)\n",
    "\n",
    "entropy_plot(palabras,random_tokens)\n",
    "entropy_plot(palabras2,random_tokens)"
   ]
  },
  {
   "cell_type": "code",
   "execution_count": 144,
   "metadata": {},
   "outputs": [],
   "source": [
    "a = [entropy(w, tokens) for w in palabras2]\n",
    "b = [entropy(w, random_tokens) for w in palabras2]"
   ]
  },
  {
   "cell_type": "code",
   "execution_count": 148,
   "metadata": {},
   "outputs": [
    {
     "data": {
      "image/png": "[encoded data removed]",
      "text/plain": [
       "<matplotlib.figure.Figure at 0x7f2780921d68>"
      ]
     },
     "metadata": {},
     "output_type": "display_data"
    }
   ],
   "source": [
    "fig = plt.figure()\n",
    "ax = fig.add_subplot(111)\n",
    "ax.scatter([x[0] for x in a], [x[1] for x in a], s=2, color='black')\n",
    "ax.scatter([x[0] for x in b], [x[1] for x in b], s=2, color='grey')\n",
    "ax.set_xscale(\"log\", nonposx='clip')\n",
    "plt.show()"
   ]
  },
  {
   "cell_type": "markdown",
   "metadata": {},
   "source": [
    "### Información mutua\n",
    "\n",
    "#### Información mutua de las 100 palabras seleccionadas"
   ]
  },
  {
   "cell_type": "code",
   "execution_count": 77,
   "metadata": {
    "collapsed": true
   },
   "outputs": [],
   "source": [
    "def mutual_information(word,tokens):\n",
    "    apparitions = generate_apparitions_vector(word,tokens)\n",
    "    \n",
    "    N = text_size\n",
    "    P = 64\n",
    "    longitud_P = N // P\n",
    "    n = len(apparitions)\n",
    "\n",
    "    p_w = n / N\n",
    "\n",
    "    h_w = H(apparitions, P, longitud_P, n)\n",
    "    \n",
    "    H_w_mean = H_mean_w(n, N, P)\n",
    "    \n",
    "    return p_w * (H_w_mean - h_w)\n",
    "\n",
    "\n",
    "def H_mean_w(n, N, P):\n",
    "    cota = int(min(n,N/P))\n",
    "    return (-P) * sum(map(lambda m: internal_function(m, n, N, P), [m for m in range(1,cota+1)]))\n",
    "    \n",
    "def internal_function(m, n, N, P):\n",
    "    aux = (m/n) * np.log2(m/n) * marginal_probability(m, n, N, P) \n",
    "    return aux\n",
    "    \n",
    "\n",
    "def marginal_probability(m, n, N, P):\n",
    "    a = nCr(n,m)\n",
    "    b = nCr((N-n), (N/P)-m)\n",
    "    c = comb_N_NdivP\n",
    "    return a * b / c\n",
    "\n",
    "\n",
    "def nCr(n, r):\n",
    "    n = int(n)\n",
    "    r = int(r)\n",
    "    #print(n, r, min(r, n-r))\n",
    "    r = min(r, n-r)\n",
    "    if r == 0: return 1\n",
    "    #numer = functools.reduce(op.mul, np.arange(n, n-r, -1))\n",
    "    numer = functools.reduce(op.mul, range(n-r, n, 1))\n",
    "    denom = functools.reduce(op.mul, range(1, r+1))\n",
    "    return numer//denom"
   ]
  },
  {
   "cell_type": "code",
   "execution_count": null,
   "metadata": {},
   "outputs": [],
   "source": [
    "sum(map(lambda w: mutual_information(w,tokens), palabras))"
   ]
  },
  {
   "cell_type": "markdown",
   "metadata": {},
   "source": [
    "## Word embeddings, distancia semantica y WordNet\n",
    "\n",
    "### 1) Utilizando el test WordSim353, comparar el rendimiento de LSA y Word2Vec "
   ]
  },
  {
   "cell_type": "markdown",
   "metadata": {},
   "source": [
    "##### WORDSIM 353"
   ]
  },
  {
   "cell_type": "code",
   "execution_count": 189,
   "metadata": {},
   "outputs": [],
   "source": [
    "wordsim_words_file = './data/wordsim353_sim_rel/wordsim353_annotator1.txt'\n",
    "ignored_lines = 11\n",
    "\n",
    "with open(wordsim_words_file) as file:  \n",
    "    data = file.readlines()\n",
    "\n",
    "wordsim_classifications = {}\n",
    "data = data[11:]\n",
    "for line in data:\n",
    "    splitted_line = re.split(r'\\t', line[:-1])\n",
    "    wordsim_classifications[(splitted_line[1].upper(), splitted_line[2].upper())] = float(splitted_line[3]) / 10\n",
    "    \n",
    "#wordsim_classifications"
   ]
  },
  {
   "cell_type": "markdown",
   "metadata": {},
   "source": [
    "##### WORD2VEC"
   ]
  },
  {
   "cell_type": "code",
   "execution_count": 200,
   "metadata": {},
   "outputs": [],
   "source": [
    "modelWord2Vec = word2vec.Word2Vec(docs_words.values(), size=100, window=5, min_count=5, workers=4)\n",
    "#model.wv.similarity('ADMISSION', 'TICKET')"
   ]
  },
  {
   "cell_type": "markdown",
   "metadata": {},
   "source": [
    "##### LSI"
   ]
  },
  {
   "cell_type": "code",
   "execution_count": 215,
   "metadata": {},
   "outputs": [],
   "source": [
    "words = corpora.Dictionary(docs_words.values())\n",
    "corpus = [words.doc2bow(text) for text in docs_words.values()]\n",
    "lsiModel = models.LsiModel(corpus, id2word=words, num_topics=4)"
   ]
  },
  {
   "cell_type": "code",
   "execution_count": 220,
   "metadata": {},
   "outputs": [
    {
     "data": {
      "text/plain": [
       "2250"
      ]
     },
     "execution_count": 220,
     "metadata": {},
     "output_type": "execute_result"
    }
   ],
   "source": [
    "for text in docs_words.values():\n",
    "    vec_bow = words.doc2bow(text)\n",
    "    #print(lsiModel[vec_bow])\n",
    "    \n",
    "lsiModel."
   ]
  },
  {
   "cell_type": "markdown",
   "metadata": {},
   "source": [
    "#### COMPARACIONES"
   ]
  },
  {
   "cell_type": "code",
   "execution_count": 205,
   "metadata": {},
   "outputs": [
    {
     "data": {
      "text/plain": [
       "array([[ 0.677     ,  0.90411616,  0.        ],\n",
       "       [ 0.735     ,  0.96308877,  0.        ],\n",
       "       [ 1.        ,  1.        ,  0.        ],\n",
       "       ..., \n",
       "       [ 0.625     ,  0.73134676,  0.        ],\n",
       "       [ 0.634     ,  0.78874056,  0.        ],\n",
       "       [ 0.378     ,  0.94861295,  0.        ]])"
      ]
     },
     "execution_count": 205,
     "metadata": {},
     "output_type": "execute_result"
    }
   ],
   "source": [
    "word2vec_classifications = {}\n",
    "classifications = np.zeros((len(wordsim_classifications), 3))\n",
    "\n",
    "for i, (pair, wordsim_classification) in enumerate(wordsim_classifications.items()):\n",
    "    try:\n",
    "        word2vec_classification = modelWord2Vec.similarity(pair[0], pair[1])\n",
    "    except:\n",
    "        word2vec_classification = 0.0\n",
    "        \n",
    "    word2vec_classifications[pair] = word2vec_classification\n",
    "    classifications[i, 0] = wordsim_classification\n",
    "    classifications[i, 1] = word2vec_classification\n",
    "\n",
    "classifications"
   ]
  },
  {
   "cell_type": "code",
   "execution_count": 206,
   "metadata": {},
   "outputs": [
    {
     "data": {
      "text/plain": [
       "8.18533282088668"
      ]
     },
     "execution_count": 206,
     "metadata": {},
     "output_type": "execute_result"
    }
   ],
   "source": [
    "sp.spatial.distance.euclidean(classifications[:, 0], classifications[:, 1])"
   ]
  },
  {
   "cell_type": "markdown",
   "metadata": {},
   "source": [
    "### 2) Compara los distintos word embeddings con las medidas definids en WordNet"
   ]
  },
  {
   "cell_type": "code",
   "execution_count": null,
   "metadata": {
    "collapsed": true
   },
   "outputs": [],
   "source": []
  }
 ],
 "metadata": {
  "kernelspec": {
   "display_name": "Python 3",
   "language": "python",
   "name": "python3"
  },
  "language_info": {
   "codemirror_mode": {
    "name": "ipython",
    "version": 3
   },
   "file_extension": ".py",
   "mimetype": "text/x-python",
   "name": "python",
   "nbconvert_exporter": "python",
   "pygments_lexer": "ipython3",
   "version": "3.6.1"
  }
 },
 "nbformat": 4,
 "nbformat_minor": 2
}
