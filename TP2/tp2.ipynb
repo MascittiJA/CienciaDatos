{
 "cells": [
  {
   "cell_type": "code",
   "execution_count": 60,
   "metadata": {
    "collapsed": true
   },
   "outputs": [],
   "source": [
    "import pandas as pd\n",
    "import numpy as np\n",
    "from scipy import signal\n",
    "import scipy.io as io\n",
    "import matplotlib\n",
    "import matplotlib.pyplot as plt\n",
    "%matplotlib inline\n",
    "matplotlib.style.use('ggplot')"
   ]
  },
  {
   "cell_type": "code",
   "execution_count": 193,
   "metadata": {},
   "outputs": [
    {
     "data": {
      "text/html": [
       "<div>\n",
       "<style>\n",
       "    .dataframe thead tr:only-child th {\n",
       "        text-align: right;\n",
       "    }\n",
       "\n",
       "    .dataframe thead th {\n",
       "        text-align: left;\n",
       "    }\n",
       "\n",
       "    .dataframe tbody tr th {\n",
       "        vertical-align: top;\n",
       "    }\n",
       "</style>\n",
       "<table border=\"1\" class=\"dataframe\">\n",
       "  <thead>\n",
       "    <tr style=\"text-align: right;\">\n",
       "      <th></th>\n",
       "      <th>0</th>\n",
       "      <th>1</th>\n",
       "      <th>2</th>\n",
       "      <th>3</th>\n",
       "      <th>4</th>\n",
       "      <th>5</th>\n",
       "      <th>6</th>\n",
       "      <th>7</th>\n",
       "      <th>8</th>\n",
       "      <th>9</th>\n",
       "      <th>...</th>\n",
       "      <th>246</th>\n",
       "      <th>247</th>\n",
       "      <th>248</th>\n",
       "      <th>249</th>\n",
       "      <th>250</th>\n",
       "      <th>251</th>\n",
       "      <th>252</th>\n",
       "      <th>253</th>\n",
       "      <th>254</th>\n",
       "      <th>255</th>\n",
       "    </tr>\n",
       "  </thead>\n",
       "  <tbody>\n",
       "    <tr>\n",
       "      <th>count</th>\n",
       "      <td>894</td>\n",
       "      <td>894</td>\n",
       "      <td>894</td>\n",
       "      <td>894</td>\n",
       "      <td>894</td>\n",
       "      <td>894</td>\n",
       "      <td>894</td>\n",
       "      <td>894</td>\n",
       "      <td>894</td>\n",
       "      <td>894</td>\n",
       "      <td>...</td>\n",
       "      <td>894</td>\n",
       "      <td>894</td>\n",
       "      <td>894</td>\n",
       "      <td>894</td>\n",
       "      <td>894</td>\n",
       "      <td>894</td>\n",
       "      <td>894</td>\n",
       "      <td>894</td>\n",
       "      <td>894</td>\n",
       "      <td>894</td>\n",
       "    </tr>\n",
       "    <tr>\n",
       "      <th>unique</th>\n",
       "      <td>894</td>\n",
       "      <td>894</td>\n",
       "      <td>894</td>\n",
       "      <td>894</td>\n",
       "      <td>894</td>\n",
       "      <td>894</td>\n",
       "      <td>894</td>\n",
       "      <td>894</td>\n",
       "      <td>894</td>\n",
       "      <td>894</td>\n",
       "      <td>...</td>\n",
       "      <td>894</td>\n",
       "      <td>894</td>\n",
       "      <td>894</td>\n",
       "      <td>894</td>\n",
       "      <td>894</td>\n",
       "      <td>894</td>\n",
       "      <td>894</td>\n",
       "      <td>894</td>\n",
       "      <td>894</td>\n",
       "      <td>894</td>\n",
       "    </tr>\n",
       "    <tr>\n",
       "      <th>top</th>\n",
       "      <td>[4.0316095031e-06, 4.4394853501e-06, 4.0546070...</td>\n",
       "      <td>[3.41882376009e-07, 7.20161716496e-06, 1.01533...</td>\n",
       "      <td>[-5.22319549267e-07, 2.17377056914e-06, 2.8372...</td>\n",
       "      <td>[3.88038459506e-06, 5.83072012454e-06, 6.78788...</td>\n",
       "      <td>[4.55175602031e-06, 5.11718491862e-06, 5.35760...</td>\n",
       "      <td>[4.86708526802e-06, 5.02977153799e-06, 5.39968...</td>\n",
       "      <td>[5.84305021661e-06, 5.97968157104e-06, 6.46477...</td>\n",
       "      <td>[9.07680782424e-06, 7.5713331859e-06, 6.605265...</td>\n",
       "      <td>[6.26698930339e-06, 4.76991110803e-06, 4.39211...</td>\n",
       "      <td>[1.21566240196e-06, 3.90766127276e-06, 5.43042...</td>\n",
       "      <td>...</td>\n",
       "      <td>[-8.36922986086e-06, -7.61626243509e-06, -5.46...</td>\n",
       "      <td>[-8.66405707336e-06, -5.09113120993e-06, -2.69...</td>\n",
       "      <td>[-8.57708309843e-06, -5.43605057502e-06, -2.77...</td>\n",
       "      <td>[-5.50678150729e-06, -3.23508265857e-06, -1.43...</td>\n",
       "      <td>[-5.47927044295e-06, -4.13562039664e-06, -2.05...</td>\n",
       "      <td>[-7.92814073377e-06, -3.8262199432e-06, -1.285...</td>\n",
       "      <td>[-7.93996573561e-06, -6.04678994232e-06, -4.60...</td>\n",
       "      <td>[-7.00811217647e-06, -6.11109047445e-06, -4.45...</td>\n",
       "      <td>[-6.42014569387e-06, -5.00842956729e-06, -2.89...</td>\n",
       "      <td>[-2.32599647542e-06, -2.29891380429e-06, -3.69...</td>\n",
       "    </tr>\n",
       "    <tr>\n",
       "      <th>freq</th>\n",
       "      <td>1</td>\n",
       "      <td>1</td>\n",
       "      <td>1</td>\n",
       "      <td>1</td>\n",
       "      <td>1</td>\n",
       "      <td>1</td>\n",
       "      <td>1</td>\n",
       "      <td>1</td>\n",
       "      <td>1</td>\n",
       "      <td>1</td>\n",
       "      <td>...</td>\n",
       "      <td>1</td>\n",
       "      <td>1</td>\n",
       "      <td>1</td>\n",
       "      <td>1</td>\n",
       "      <td>1</td>\n",
       "      <td>1</td>\n",
       "      <td>1</td>\n",
       "      <td>1</td>\n",
       "      <td>1</td>\n",
       "      <td>1</td>\n",
       "    </tr>\n",
       "  </tbody>\n",
       "</table>\n",
       "<p>4 rows × 256 columns</p>\n",
       "</div>"
      ],
      "text/plain": [
       "                                                      0    \\\n",
       "count                                                 894   \n",
       "unique                                                894   \n",
       "top     [4.0316095031e-06, 4.4394853501e-06, 4.0546070...   \n",
       "freq                                                    1   \n",
       "\n",
       "                                                      1    \\\n",
       "count                                                 894   \n",
       "unique                                                894   \n",
       "top     [3.41882376009e-07, 7.20161716496e-06, 1.01533...   \n",
       "freq                                                    1   \n",
       "\n",
       "                                                      2    \\\n",
       "count                                                 894   \n",
       "unique                                                894   \n",
       "top     [-5.22319549267e-07, 2.17377056914e-06, 2.8372...   \n",
       "freq                                                    1   \n",
       "\n",
       "                                                      3    \\\n",
       "count                                                 894   \n",
       "unique                                                894   \n",
       "top     [3.88038459506e-06, 5.83072012454e-06, 6.78788...   \n",
       "freq                                                    1   \n",
       "\n",
       "                                                      4    \\\n",
       "count                                                 894   \n",
       "unique                                                894   \n",
       "top     [4.55175602031e-06, 5.11718491862e-06, 5.35760...   \n",
       "freq                                                    1   \n",
       "\n",
       "                                                      5    \\\n",
       "count                                                 894   \n",
       "unique                                                894   \n",
       "top     [4.86708526802e-06, 5.02977153799e-06, 5.39968...   \n",
       "freq                                                    1   \n",
       "\n",
       "                                                      6    \\\n",
       "count                                                 894   \n",
       "unique                                                894   \n",
       "top     [5.84305021661e-06, 5.97968157104e-06, 6.46477...   \n",
       "freq                                                    1   \n",
       "\n",
       "                                                      7    \\\n",
       "count                                                 894   \n",
       "unique                                                894   \n",
       "top     [9.07680782424e-06, 7.5713331859e-06, 6.605265...   \n",
       "freq                                                    1   \n",
       "\n",
       "                                                      8    \\\n",
       "count                                                 894   \n",
       "unique                                                894   \n",
       "top     [6.26698930339e-06, 4.76991110803e-06, 4.39211...   \n",
       "freq                                                    1   \n",
       "\n",
       "                                                      9    \\\n",
       "count                                                 894   \n",
       "unique                                                894   \n",
       "top     [1.21566240196e-06, 3.90766127276e-06, 5.43042...   \n",
       "freq                                                    1   \n",
       "\n",
       "                              ...                          \\\n",
       "count                         ...                           \n",
       "unique                        ...                           \n",
       "top                           ...                           \n",
       "freq                          ...                           \n",
       "\n",
       "                                                      246  \\\n",
       "count                                                 894   \n",
       "unique                                                894   \n",
       "top     [-8.36922986086e-06, -7.61626243509e-06, -5.46...   \n",
       "freq                                                    1   \n",
       "\n",
       "                                                      247  \\\n",
       "count                                                 894   \n",
       "unique                                                894   \n",
       "top     [-8.66405707336e-06, -5.09113120993e-06, -2.69...   \n",
       "freq                                                    1   \n",
       "\n",
       "                                                      248  \\\n",
       "count                                                 894   \n",
       "unique                                                894   \n",
       "top     [-8.57708309843e-06, -5.43605057502e-06, -2.77...   \n",
       "freq                                                    1   \n",
       "\n",
       "                                                      249  \\\n",
       "count                                                 894   \n",
       "unique                                                894   \n",
       "top     [-5.50678150729e-06, -3.23508265857e-06, -1.43...   \n",
       "freq                                                    1   \n",
       "\n",
       "                                                      250  \\\n",
       "count                                                 894   \n",
       "unique                                                894   \n",
       "top     [-5.47927044295e-06, -4.13562039664e-06, -2.05...   \n",
       "freq                                                    1   \n",
       "\n",
       "                                                      251  \\\n",
       "count                                                 894   \n",
       "unique                                                894   \n",
       "top     [-7.92814073377e-06, -3.8262199432e-06, -1.285...   \n",
       "freq                                                    1   \n",
       "\n",
       "                                                      252  \\\n",
       "count                                                 894   \n",
       "unique                                                894   \n",
       "top     [-7.93996573561e-06, -6.04678994232e-06, -4.60...   \n",
       "freq                                                    1   \n",
       "\n",
       "                                                      253  \\\n",
       "count                                                 894   \n",
       "unique                                                894   \n",
       "top     [-7.00811217647e-06, -6.11109047445e-06, -4.45...   \n",
       "freq                                                    1   \n",
       "\n",
       "                                                      254  \\\n",
       "count                                                 894   \n",
       "unique                                                894   \n",
       "top     [-6.42014569387e-06, -5.00842956729e-06, -2.89...   \n",
       "freq                                                    1   \n",
       "\n",
       "                                                      255  \n",
       "count                                                 894  \n",
       "unique                                                894  \n",
       "top     [-2.32599647542e-06, -2.29891380429e-06, -3.69...  \n",
       "freq                                                    1  \n",
       "\n",
       "[4 rows x 256 columns]"
      ]
     },
     "execution_count": 193,
     "metadata": {},
     "output_type": "execute_result"
    }
   ],
   "source": [
    "mat = io.loadmat('./Datos/P01.mat')\n",
    "\n",
    "df = pd.DataFrame.from_records(mat['data'])\n",
    "\n",
    "df.describe()"
   ]
  },
  {
   "cell_type": "code",
   "execution_count": 172,
   "metadata": {},
   "outputs": [
    {
     "data": {
      "text/plain": [
       "[<matplotlib.lines.Line2D at 0x7f855892a550>]"
      ]
     },
     "execution_count": 172,
     "metadata": {},
     "output_type": "execute_result"
    },
    {
     "data": {
      "image/png": "[encoded data removed]",
      "text/plain": [
       "<matplotlib.figure.Figure at 0x7f8558f8e128>"
      ]
     },
     "metadata": {},
     "output_type": "display_data"
    }
   ],
   "source": [
    "#print(df)\n",
    "electrodo8 = df[7]\n",
    "epoch_promedio = electrodo8.apply(pd.Series).mean()\n",
    "plt.plot(epoch_promedio)"
   ]
  },
  {
   "cell_type": "code",
   "execution_count": 178,
   "metadata": {},
   "outputs": [
    {
     "name": "stderr",
     "output_type": "stream",
     "text": [
      "/home/julio/anaconda3/lib/python3.6/site-packages/scipy/signal/spectral.py:1637: UserWarning: nperseg = 256 is greater than input length  = 201, using nperseg = 201\n",
      "  .format(nperseg, input_length))\n"
     ]
    },
    {
     "data": {
      "text/plain": [
       "[<matplotlib.lines.Line2D at 0x7f8558dc8198>]"
      ]
     },
     "execution_count": 178,
     "metadata": {},
     "output_type": "execute_result"
    },
    {
     "data": {
      "image/png": "[encoded data removed]",
      "text/plain": [
       "<matplotlib.figure.Figure at 0x7f8558a719e8>"
      ]
     },
     "metadata": {},
     "output_type": "display_data"
    }
   ],
   "source": [
    "frec, power = signal.welch(x= epoch_promedio,fs = 250)\n",
    "plt.plot(frec, power)"
   ]
  },
  {
   "cell_type": "code",
   "execution_count": 281,
   "metadata": {},
   "outputs": [
    {
     "name": "stderr",
     "output_type": "stream",
     "text": [
      "/home/julio/anaconda3/lib/python3.6/site-packages/scipy/signal/spectral.py:1637: UserWarning: nperseg = 256 is greater than input length  = 201, using nperseg = 201\n",
      "  .format(nperseg, input_length))\n"
     ]
    },
    {
     "data": {
      "text/plain": [
       "pandas.core.series.Series"
      ]
     },
     "execution_count": 281,
     "metadata": {},
     "output_type": "execute_result"
    }
   ],
   "source": [
    "elec8 = df[7].apply(pd.Series)\n",
    "\n",
    "\n",
    "#elec44 = df[43].apply(pd.Series).T\n",
    "#elec80 = df[79].apply(pd.Series).T\n",
    "#elec131 = df[130].apply(pd.Series).T\n",
    "#elec185 = df[184].apply(pd.Series).T\n",
    "\n",
    "#electrodoProm = pd.concat((elec7,elec44,elec80,elec131,elec185)).mean()\n",
    "# for epoch in \n",
    "welchs = elec8.apply(signal.welch, axis=1)\n",
    "welchs.apply(pd.Series)\n",
    "# freqs, powers = signal.welch(elec8,fs = 250)\n",
    "# freqs\n",
    "\n",
    "type(df[7])\n"
   ]
  },
  {
   "cell_type": "code",
   "execution_count": 264,
   "metadata": {},
   "outputs": [
    {
     "data": {
      "text/plain": [
       "<matplotlib.axes._subplots.AxesSubplot at 0x7f8501e8cc50>"
      ]
     },
     "execution_count": 264,
     "metadata": {},
     "output_type": "execute_result"
    },
    {
     "data": {
      "image/png": "[encoded data removed]",
      "text/plain": [
       "<matplotlib.figure.Figure at 0x7f8501e64908>"
      ]
     },
     "metadata": {},
     "output_type": "display_data"
    }
   ],
   "source": [
    "import seaborn as sns\n",
    "sns.heatmap(welchs)"
   ]
  },
  {
   "cell_type": "code",
   "execution_count": null,
   "metadata": {
    "collapsed": true
   },
   "outputs": [],
   "source": []
  }
 ],
 "metadata": {
  "kernelspec": {
   "display_name": "Python 3",
   "language": "python",
   "name": "python3"
  },
  "language_info": {
   "codemirror_mode": {
    "name": "ipython",
    "version": 3
   },
   "file_extension": ".py",
   "mimetype": "text/x-python",
   "name": "python",
   "nbconvert_exporter": "python",
   "pygments_lexer": "ipython3",
   "version": "3.6.1"
  }
 },
 "nbformat": 4,
 "nbformat_minor": 2
}
