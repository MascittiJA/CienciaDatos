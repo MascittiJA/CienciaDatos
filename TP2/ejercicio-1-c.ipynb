{
 "cells": [
  {
   "cell_type": "code",
   "execution_count": 1,
   "metadata": {
    "collapsed": true
   },
   "outputs": [],
   "source": [
    "import numpy as np\n",
    "from scipy import signal\n",
    "import scipy.io as io\n",
    "import matplotlib.pyplot as plt\n",
    "import seaborn as sns\n",
    "\n",
    "from os import path"
   ]
  },
  {
   "cell_type": "code",
   "execution_count": 7,
   "metadata": {
    "collapsed": true
   },
   "outputs": [],
   "source": [
    "def calculate_welchs(data):\n",
    "    welchs_by_elect_and_epoch = np.empty((256,len(data),2,101))\n",
    "\n",
    "    for i_epoch in range(len(data)):\n",
    "        epoch = data[i_epoch]\n",
    "        for i_elect in range(len(epoch)):\n",
    "            f,p = signal.welch(x=epoch[i_elect], fs=250)\n",
    "            welchs_by_elect_and_epoch[i_elect,i_epoch] = np.array([f,p])\n",
    "    \n",
    "    return welchs_by_elect_and_epoch"
   ]
  },
  {
   "cell_type": "code",
   "execution_count": 4,
   "metadata": {
    "collapsed": true
   },
   "outputs": [],
   "source": [
    "def calculate_power_mean(welchs_by_elect_and_epoch):\n",
    "    freqs = welchs_by_elect_and_epoch[0,0,0,:]\n",
    "    alphas_idxs = np.where((freqs>=8) * (freqs<13))\n",
    "    alphas = welchs_by_elect_and_epoch[:,:,1,alphas_idxs]\n",
    "    alphas = alphas[:,:,0,:]\n",
    "    return alphas.mean()"
   ]
  },
  {
   "cell_type": "code",
   "execution_count": 8,
   "metadata": {},
   "outputs": [
    {
     "name": "stdout",
     "output_type": "stream",
     "text": [
      "../../../../data/P01.mat\n",
      "welch_P01.dmp\n",
      "(894, 256, 201)\n"
     ]
    },
    {
     "name": "stderr",
     "output_type": "stream",
     "text": [
      "/home/matias/programas/anaconda3/lib/python3.6/site-packages/scipy/signal/spectral.py:1637: UserWarning: nperseg = 256 is greater than input length  = 201, using nperseg = 201\n",
      "  .format(nperseg, input_length))\n"
     ]
    },
    {
     "name": "stdout",
     "output_type": "stream",
     "text": [
      "../../../../data/P02.mat\n",
      "welch_P02.dmp\n",
      "(687, 256, 201)\n",
      "../../../../data/P03.mat\n",
      "welch_P03.dmp\n",
      "(700, 256, 201)\n",
      "../../../../data/P04.mat\n",
      "welch_P04.dmp\n",
      "(1596, 256, 201)\n",
      "../../../../data/P05.mat\n",
      "welch_P05.dmp\n",
      "(857, 256, 201)\n",
      "../../../../data/P06.mat\n",
      "welch_P06.dmp\n",
      "(944, 256, 201)\n",
      "../../../../data/P07.mat\n",
      "welch_P07.dmp\n",
      "(947, 256, 201)\n",
      "../../../../data/P08.mat\n",
      "welch_P08.dmp\n",
      "(901, 256, 201)\n",
      "../../../../data/P09.mat\n",
      "welch_P09.dmp\n",
      "(539, 256, 201)\n",
      "../../../../data/P10.mat\n",
      "welch_P10.dmp\n",
      "(931, 256, 201)\n",
      "../../../../data/S01.mat\n",
      "welch_S01.dmp\n",
      "(657, 256, 201)\n",
      "../../../../data/S02.mat\n",
      "welch_S02.dmp\n",
      "(407, 256, 201)\n",
      "../../../../data/S03.mat\n",
      "welch_S03.dmp\n",
      "(809, 256, 201)\n",
      "../../../../data/S04.mat\n",
      "welch_S04.dmp\n",
      "(746, 256, 201)\n",
      "../../../../data/S05.mat\n",
      "welch_S05.dmp\n",
      "(697, 256, 201)\n",
      "../../../../data/S06.mat\n",
      "welch_S06.dmp\n",
      "(769, 256, 201)\n",
      "../../../../data/S07.mat\n",
      "welch_S07.dmp\n",
      "(789, 256, 201)\n",
      "../../../../data/S08.mat\n",
      "welch_S08.dmp\n",
      "(800, 256, 201)\n",
      "../../../../data/S09.mat\n",
      "welch_S09.dmp\n",
      "(628, 256, 201)\n",
      "../../../../data/S10.mat\n",
      "welch_S10.dmp\n",
      "(767, 256, 201)\n"
     ]
    }
   ],
   "source": [
    "for t in ['P','S']:\n",
    "    for i in range(1,11):\n",
    "        try:\n",
    "            data_file = path.join('../../../../data/',t) + \"%02d\" % (i) + '.mat'\n",
    "            welch_file = 'welch_' + t + \"%02d\" % (i) + '.dmp'\n",
    "            print(data_file)\n",
    "            print(welch_file)\n",
    "            data = io.loadmat(data_file)['data']\n",
    "            print(data.shape)\n",
    "            welch = calculate_welchs(data)\n",
    "            welch.dump(welch_file)\n",
    "        except Exception as exception:\n",
    "            print(str(exception))\n",
    "            pass\n",
    "\n"
   ]
  },
  {
   "cell_type": "code",
   "execution_count": 7,
   "metadata": {},
   "outputs": [
    {
     "name": "stdout",
     "output_type": "stream",
     "text": [
      "welch_P01.dmp\n",
      "(256, 894, 2, 101)\n",
      "welch_P02.dmp\n",
      "(256, 687, 2, 101)\n",
      "welch_P03.dmp\n",
      "(256, 700, 2, 101)\n",
      "welch_P04.dmp\n",
      "(256, 1596, 2, 101)\n",
      "welch_P05.dmp\n",
      "(256, 857, 2, 101)\n",
      "welch_P06.dmp\n",
      "(256, 944, 2, 101)\n",
      "welch_P07.dmp\n",
      "(256, 947, 2, 101)\n",
      "welch_P08.dmp\n",
      "(256, 901, 2, 101)\n",
      "welch_P09.dmp\n",
      "(256, 539, 2, 101)\n",
      "welch_P10.dmp\n",
      "(256, 931, 2, 101)\n",
      "welch_S01.dmp\n",
      "(256, 657, 2, 101)\n",
      "welch_S02.dmp\n",
      "(256, 407, 2, 101)\n",
      "welch_S03.dmp\n",
      "(256, 809, 2, 101)\n",
      "welch_S04.dmp\n",
      "(256, 746, 2, 101)\n",
      "welch_S05.dmp\n",
      "(256, 697, 2, 101)\n",
      "welch_S06.dmp\n",
      "(256, 769, 2, 101)\n",
      "welch_S07.dmp\n",
      "(256, 789, 2, 101)\n",
      "welch_S08.dmp\n",
      "(256, 800, 2, 101)\n",
      "welch_S09.dmp\n",
      "(256, 628, 2, 101)\n",
      "welch_S10.dmp\n",
      "(256, 767, 2, 101)\n",
      "array([[  5.02569529e-13,   6.48588731e-13,   5.37076536e-13,\n",
      "          5.67761466e-13,   9.43558039e-13,   6.81057519e-13,\n",
      "          5.23774418e-13,   2.10654914e-13,   1.11194546e-12,\n",
      "          2.51537038e-13],\n",
      "       [  6.78256368e-13,   5.51686626e-12,   3.57949519e-12,\n",
      "          5.66600034e-12,   3.05501184e-12,   2.62648576e-12,\n",
      "          3.64888180e-12,   4.26994478e-12,   4.07003047e-12,\n",
      "          6.69639984e-13]])\n"
     ]
    }
   ],
   "source": [
    "power_means = np.zeros((2,10))\n",
    "\n",
    "for t in ['P','S']:\n",
    "    for i in range(1,11):\n",
    "        try:\n",
    "            welch_file = 'welch_' + t + \"%02d\" % (i) + '.dmp'\n",
    "            print(welch_file)\n",
    "            data = np.load(welch_file)\n",
    "            print(data.shape)\n",
    "            power_mean = calculate_power_mean(data)\n",
    "            row = 0 if(t == 'P') else 1\n",
    "            power_means[row, i-1] = power_mean\n",
    "        except Exception as exception:\n",
    "            print(str(exception))\n",
    "            pass\n",
    "        \n",
    "print(repr(power_means))\n",
    "power_means.dump('power_means.dmp')"
   ]
  }
 ],
 "metadata": {
  "kernelspec": {
   "display_name": "Python 3",
   "language": "python",
   "name": "python3"
  },
  "language_info": {
   "codemirror_mode": {
    "name": "ipython",
    "version": 3
   },
   "file_extension": ".py",
   "mimetype": "text/x-python",
   "name": "python",
   "nbconvert_exporter": "python",
   "pygments_lexer": "ipython3",
   "version": "3.6.1"
  }
 },
 "nbformat": 4,
 "nbformat_minor": 2
}
