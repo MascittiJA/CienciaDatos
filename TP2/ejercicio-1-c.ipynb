{
 "cells": [
  {
   "cell_type": "code",
   "execution_count": 1,
   "metadata": {
    "collapsed": true
   },
   "outputs": [],
   "source": [
    "import numpy as np\n",
    "from scipy import signal\n",
    "import scipy.io as io\n",
    "import matplotlib.pyplot as plt\n",
    "import seaborn as sns\n",
    "import pandas as pd\n",
    "\n",
    "from os import path"
   ]
  },
  {
   "cell_type": "code",
   "execution_count": null,
   "metadata": {
    "collapsed": true
   },
   "outputs": [],
   "source": [
    "def calculate_welchs(data):\n",
    "    welchs_by_elect_and_epoch = np.empty((256,len(data),2,101))\n",
    "\n",
    "    for i_epoch in range(len(data)):\n",
    "        epoch = data[i_epoch]\n",
    "        for i_elect in range(len(epoch)):\n",
    "            f,p = signal.welch(x=epoch[i_elect], fs=250)\n",
    "            welchs_by_elect_and_epoch[i_elect,i_epoch] = np.array([f,p])\n",
    "    \n",
    "    return welchs_by_elect_and_epoch"
   ]
  },
  {
   "cell_type": "code",
   "execution_count": null,
   "metadata": {
    "collapsed": true
   },
   "outputs": [],
   "source": [
    "def calculate_power_mean(welchs_by_elect_and_epoch, frequency_range):\n",
    "    freqs = welchs_by_elect_and_epoch[0,0,0,:]\n",
    "    alphas_idxs = np.where((freqs>=frequency_range[0]) * (freqs<frequency_range[1]))\n",
    "    alphas = welchs_by_elect_and_epoch[:,:,1,alphas_idxs]\n",
    "    alphas = alphas[:,:,0,:]\n",
    "    return alphas.mean()"
   ]
  },
  {
   "cell_type": "code",
   "execution_count": null,
   "metadata": {},
   "outputs": [],
   "source": [
    "for t in ['P','S']:\n",
    "    for i in range(1,11):\n",
    "        try:\n",
    "            data_file = path.join('../../../../data/',t) + \"%02d\" % (i) + '.mat'\n",
    "            welch_file = 'welch_' + t + \"%02d\" % (i) + '.dmp'\n",
    "            print(data_file)\n",
    "            print(welch_file)\n",
    "            data = io.loadmat(data_file)['data']\n",
    "            print(data.shape)\n",
    "            welch = calculate_welchs(data)\n",
    "            welch.dump(welch_file)\n",
    "        except Exception as exception:\n",
    "            print(str(exception))\n",
    "            pass\n",
    "\n"
   ]
  },
  {
   "cell_type": "code",
   "execution_count": null,
   "metadata": {},
   "outputs": [],
   "source": [
    "def load_welchs_and_calculate_power_means(frequency_range):\n",
    "\n",
    "    power_means = np.zeros((2,10))\n",
    "\n",
    "    for t in ['P','S']:\n",
    "        for i in range(1,11):\n",
    "            try:\n",
    "                welch_file = 'welch_' + t + \"%02d\" % (i) + '.dmp'\n",
    "                print(welch_file)\n",
    "                data = np.load(welch_file)\n",
    "                print(data.shape)\n",
    "                power_mean = calculate_power_mean(data, frequency_range)\n",
    "                row = 0 if(t == 'P') else 1\n",
    "                power_means[row, i-1] = power_mean\n",
    "            except Exception as exception:\n",
    "                print(str(exception))\n",
    "                pass\n",
    "\n",
    "    print(repr(power_means))\n",
    "    return power_means"
   ]
  },
  {
   "cell_type": "code",
   "execution_count": null,
   "metadata": {},
   "outputs": [],
   "source": [
    "frequencies_ranges = {\"delta\": (0,4), \"theta\": (4,8), \"alpha\": (8,13), \"beta\": (13,30), \"gamma\": (30,125)}\n",
    "\n",
    "for name,frequency_range in frequencies_ranges.items():\n",
    "    frequency_power_means = load_welchs_and_calculate_power_means(frequency_range)\n",
    "    frequency_power_means.dump(name + 'power_means.dmp')\n"
   ]
  },
  {
   "cell_type": "markdown",
   "metadata": {},
   "source": [
    "## 1c - graficos"
   ]
  },
  {
   "cell_type": "code",
   "execution_count": 33,
   "metadata": {},
   "outputs": [
    {
     "data": {
      "text/html": [
       "<div>\n",
       "<style>\n",
       "    .dataframe thead tr:only-child th {\n",
       "        text-align: right;\n",
       "    }\n",
       "\n",
       "    .dataframe thead th {\n",
       "        text-align: left;\n",
       "    }\n",
       "\n",
       "    .dataframe tbody tr th {\n",
       "        vertical-align: top;\n",
       "    }\n",
       "</style>\n",
       "<table border=\"1\" class=\"dataframe\">\n",
       "  <thead>\n",
       "    <tr style=\"text-align: right;\">\n",
       "      <th></th>\n",
       "      <th>P</th>\n",
       "      <th>S</th>\n",
       "    </tr>\n",
       "  </thead>\n",
       "  <tbody>\n",
       "    <tr>\n",
       "      <th>0</th>\n",
       "      <td>5.025695e-13</td>\n",
       "      <td>6.782564e-13</td>\n",
       "    </tr>\n",
       "    <tr>\n",
       "      <th>1</th>\n",
       "      <td>6.485887e-13</td>\n",
       "      <td>5.516866e-12</td>\n",
       "    </tr>\n",
       "    <tr>\n",
       "      <th>2</th>\n",
       "      <td>5.370765e-13</td>\n",
       "      <td>3.579495e-12</td>\n",
       "    </tr>\n",
       "    <tr>\n",
       "      <th>3</th>\n",
       "      <td>5.677615e-13</td>\n",
       "      <td>5.666000e-12</td>\n",
       "    </tr>\n",
       "    <tr>\n",
       "      <th>4</th>\n",
       "      <td>9.435580e-13</td>\n",
       "      <td>3.055012e-12</td>\n",
       "    </tr>\n",
       "    <tr>\n",
       "      <th>5</th>\n",
       "      <td>6.810575e-13</td>\n",
       "      <td>2.626486e-12</td>\n",
       "    </tr>\n",
       "    <tr>\n",
       "      <th>6</th>\n",
       "      <td>5.237744e-13</td>\n",
       "      <td>3.648882e-12</td>\n",
       "    </tr>\n",
       "    <tr>\n",
       "      <th>7</th>\n",
       "      <td>2.106549e-13</td>\n",
       "      <td>4.269945e-12</td>\n",
       "    </tr>\n",
       "    <tr>\n",
       "      <th>8</th>\n",
       "      <td>1.111945e-12</td>\n",
       "      <td>4.070030e-12</td>\n",
       "    </tr>\n",
       "    <tr>\n",
       "      <th>9</th>\n",
       "      <td>2.515370e-13</td>\n",
       "      <td>6.696400e-13</td>\n",
       "    </tr>\n",
       "  </tbody>\n",
       "</table>\n",
       "</div>"
      ],
      "text/plain": [
       "              P             S\n",
       "0  5.025695e-13  6.782564e-13\n",
       "1  6.485887e-13  5.516866e-12\n",
       "2  5.370765e-13  3.579495e-12\n",
       "3  5.677615e-13  5.666000e-12\n",
       "4  9.435580e-13  3.055012e-12\n",
       "5  6.810575e-13  2.626486e-12\n",
       "6  5.237744e-13  3.648882e-12\n",
       "7  2.106549e-13  4.269945e-12\n",
       "8  1.111945e-12  4.070030e-12\n",
       "9  2.515370e-13  6.696400e-13"
      ]
     },
     "execution_count": 33,
     "metadata": {},
     "output_type": "execute_result"
    }
   ],
   "source": [
    "alphas_powers = np.load(\"alphapower_means.dmp\").T\n",
    "df = pd.DataFrame(alphas_powers, columns=list('PS'))\n",
    "df"
   ]
  },
  {
   "cell_type": "markdown",
   "metadata": {},
   "source": [
    "### stripplot"
   ]
  },
  {
   "cell_type": "code",
   "execution_count": 37,
   "metadata": {},
   "outputs": [
    {
     "data": {
      "image/png": "[encoded data removed]",
      "text/plain": [
       "<matplotlib.figure.Figure at 0x7fdfee32abe0>"
      ]
     },
     "metadata": {},
     "output_type": "display_data"
    }
   ],
   "source": [
    "ax = sns.stripplot(data=df)\n",
    "ax.set_autoscaley_on(True)\n",
    "ax.set_ylim(1e-14,6e-12)\n",
    "sns.plt.show()"
   ]
  },
  {
   "cell_type": "markdown",
   "metadata": {},
   "source": [
    "### swarmplot"
   ]
  },
  {
   "cell_type": "code",
   "execution_count": 38,
   "metadata": {},
   "outputs": [
    {
     "data": {
      "image/png": "[encoded data removed]",
      "text/plain": [
       "<matplotlib.figure.Figure at 0x7fdfee4a3390>"
      ]
     },
     "metadata": {},
     "output_type": "display_data"
    }
   ],
   "source": [
    "ax = sns.swarmplot(data=df)\n",
    "ax.set_autoscaley_on(True)\n",
    "ax.set_ylim(1e-14,6e-12)\n",
    "sns.plt.show()"
   ]
  },
  {
   "cell_type": "markdown",
   "metadata": {},
   "source": [
    "### boxplot"
   ]
  },
  {
   "cell_type": "code",
   "execution_count": 39,
   "metadata": {},
   "outputs": [
    {
     "data": {
      "image/png": "[encoded data removed]",
      "text/plain": [
       "<matplotlib.figure.Figure at 0x7fdfee414b38>"
      ]
     },
     "metadata": {},
     "output_type": "display_data"
    }
   ],
   "source": [
    "ax = sns.boxplot(data=df)\n",
    "ax.set_autoscaley_on(True)\n",
    "ax.set_ylim(1e-14,6e-12)\n",
    "sns.plt.show()"
   ]
  },
  {
   "cell_type": "markdown",
   "metadata": {},
   "source": [
    "### violinplot"
   ]
  },
  {
   "cell_type": "code",
   "execution_count": 41,
   "metadata": {},
   "outputs": [
    {
     "data": {
      "image/png": "[encoded data removed]",
      "text/plain": [
       "<matplotlib.figure.Figure at 0x7fdfee3d0a90>"
      ]
     },
     "metadata": {},
     "output_type": "display_data"
    }
   ],
   "source": [
    "ax = sns.violinplot(data=df)\n",
    "ax.set_autoscaley_on(True)\n",
    "ax.set_ylim(1e-14,6e-12)\n",
    "sns.plt.show()"
   ]
  },
  {
   "cell_type": "markdown",
   "metadata": {},
   "source": [
    "### lvplot"
   ]
  },
  {
   "cell_type": "code",
   "execution_count": 43,
   "metadata": {},
   "outputs": [
    {
     "data": {
      "image/png": "[encoded data removed]",
      "text/plain": [
       "<matplotlib.figure.Figure at 0x7fdfee05c048>"
      ]
     },
     "metadata": {},
     "output_type": "display_data"
    }
   ],
   "source": [
    "ax = sns.lvplot(data=df)\n",
    "ax.set_autoscaley_on(True)\n",
    "ax.set_ylim(1e-14,6e-12)\n",
    "sns.plt.show()"
   ]
  },
  {
   "cell_type": "markdown",
   "metadata": {},
   "source": [
    "### pointplot"
   ]
  },
  {
   "cell_type": "code",
   "execution_count": 45,
   "metadata": {},
   "outputs": [
    {
     "data": {
      "image/png": "[encoded data removed]",
      "text/plain": [
       "<matplotlib.figure.Figure at 0x7fdfedfaa6d8>"
      ]
     },
     "metadata": {},
     "output_type": "display_data"
    }
   ],
   "source": [
    "ax = sns.pointplot(data=df)\n",
    "ax.set_autoscaley_on(True)\n",
    "ax.set_ylim(1e-14,6e-12)\n",
    "sns.plt.show()"
   ]
  },
  {
   "cell_type": "markdown",
   "metadata": {},
   "source": [
    "### barplot"
   ]
  },
  {
   "cell_type": "code",
   "execution_count": 46,
   "metadata": {},
   "outputs": [
    {
     "data": {
      "image/png": "[encoded data removed]",
      "text/plain": [
       "<matplotlib.figure.Figure at 0x7fdfee042978>"
      ]
     },
     "metadata": {},
     "output_type": "display_data"
    }
   ],
   "source": [
    "ax = sns.barplot(data=df)\n",
    "ax.set_autoscaley_on(True)\n",
    "ax.set_ylim(1e-14,6e-12)\n",
    "sns.plt.show()"
   ]
  },
  {
   "cell_type": "markdown",
   "metadata": {},
   "source": [
    "### countplot"
   ]
  },
  {
   "cell_type": "code",
   "execution_count": 68,
   "metadata": {},
   "outputs": [
    {
     "data": {
      "image/png": "[encoded data removed]",
      "text/plain": [
       "<matplotlib.figure.Figure at 0x7fdfedf3f400>"
      ]
     },
     "metadata": {},
     "output_type": "display_data"
    }
   ],
   "source": [
    "ax = sns.countplot(x=(\"S\",\"P\"), data=df)\n",
    "sns.plt.show()\n",
    "# REVISAR"
   ]
  }
 ],
 "metadata": {
  "kernelspec": {
   "display_name": "Python 3",
   "language": "python",
   "name": "python3"
  },
  "language_info": {
   "codemirror_mode": {
    "name": "ipython",
    "version": 3
   },
   "file_extension": ".py",
   "mimetype": "text/x-python",
   "name": "python",
   "nbconvert_exporter": "python",
   "pygments_lexer": "ipython3",
   "version": "3.6.1"
  }
 },
 "nbformat": 4,
 "nbformat_minor": 2
}
