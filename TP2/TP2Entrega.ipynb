{
 "cells": [
  {
   "cell_type": "markdown",
   "metadata": {},
   "source": [
    "# Seminario de Ciencia de Datos\n",
    "\n",
    "## 2º Cuatrimestre de 2017\n",
    "\n",
    "## Módulo 2 - Series Temporales\n",
    "\n",
    "### Integrantes:\n",
    "\n",
    "- Mascitti, Julio Augusto - 954/11 - mascittija@gmail.com\n",
    "\n",
    "- Aleman, Damián - ###/## - usuario@dominio\n",
    "\n",
    "- Guerson, Matias Carlos - 925/10 - matias.guerson@gmail.com\n",
    "\n",
    "#### Introducción\n",
    "\n",
    "En este trabajo tenemos por objetivo trabajar con series temporlaes y grandes volúmenes de datos. Para lo mismo la catedra nos porporcionó un set de datos de Electroencefalogramas (EGGs) de 20 pacientes divididos en 2 grupos distinguibles. Estos datos fueron recolectados de mediciones realizadas por 256 electrodos ubicados en un casco que se conecta al paciente. El experimento conciste en estimular a los distintos pacientes conectados a los cascos para poder medir su reacción ante dicho estímulo.\n",
    "Para más detalles leer el enunciado, que cuenta con información sobre la técnica de electroencefalografía y cuenta con detalles sobre la implementación del experimento."
   ]
  },
  {
   "cell_type": "markdown",
   "metadata": {},
   "source": [
    "### Analisis preliminar de los datos"
   ]
  },
  {
   "cell_type": "code",
   "execution_count": null,
   "metadata": {
    "collapsed": true
   },
   "outputs": [],
   "source": [
    "import pandas as pd\n",
    "import numpy as np\n",
    "from scipy import signal\n",
    "from scipy.stats import entropy\n",
    "import scipy.io as io\n",
    "import scipy as sp\n",
    "import matplotlib\n",
    "import matplotlib.pyplot as plt\n",
    "import seaborn as sns\n",
    "%matplotlib inline\n",
    "matplotlib.style.use('ggplot')"
   ]
  },
  {
   "cell_type": "markdown",
   "metadata": {},
   "source": [
    "Importando los datos del primer paciente para familiarizarnos un poco con la información que disponemos"
   ]
  },
  {
   "cell_type": "code",
   "execution_count": null,
   "metadata": {
    "collapsed": true
   },
   "outputs": [],
   "source": [
    "# path = \"../../../../\"\n",
    "path = \"./\"\n",
    "\n",
    "data = io.loadmat('{}data/P01.mat'.format(path))\n",
    "\n",
    "matriz = data['data']\n",
    "print(matriz.shape)\n",
    "print(len(matriz))   # x = epochs\n",
    "print(len(matriz[0]))   # y = electrodos\n",
    "print(len(matriz[0][0]))   # z = muestras "
   ]
  },
  {
   "cell_type": "markdown",
   "metadata": {},
   "source": [
    "Disponemos de una matriz por paciente con 894 Epochs, 256 electrodos y 201 muestras"
   ]
  },
  {
   "cell_type": "code",
   "execution_count": null,
   "metadata": {
    "collapsed": true
   },
   "outputs": [],
   "source": [
    "electrodo8 = matriz[:,7,:]\n",
    "print(electrodo8.shape)\n",
    "print(electrodo8)"
   ]
  },
  {
   "cell_type": "code",
   "execution_count": null,
   "metadata": {
    "collapsed": true
   },
   "outputs": [],
   "source": [
    "epoch_promedio = electrodo8.mean(axis=0)\n",
    "plt.plot(epoch_promedio)"
   ]
  },
  {
   "cell_type": "code",
   "execution_count": null,
   "metadata": {
    "collapsed": true
   },
   "outputs": [],
   "source": [
    "frec, power = signal.welch(x= epoch_promedio,fs = 250)\n",
    "print(frec)\n",
    "plt.plot(frec, power)"
   ]
  }
 ],
 "metadata": {
  "kernelspec": {
   "display_name": "Python 3",
   "language": "python",
   "name": "python3"
  },
  "language_info": {
   "codemirror_mode": {
    "name": "ipython",
    "version": 3
   },
   "file_extension": ".py",
   "mimetype": "text/x-python",
   "name": "python",
   "nbconvert_exporter": "python",
   "pygments_lexer": "ipython3",
   "version": "3.6.1"
  }
 },
 "nbformat": 4,
 "nbformat_minor": 2
}
