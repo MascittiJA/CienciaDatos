{
 "cells": [
  {
   "cell_type": "markdown",
   "metadata": {},
   "source": [
    "# Seminario de Ciencia de Datos\n",
    "\n",
    "## 2º Cuatrimestre de 2017\n",
    "\n",
    "## Módulo 2 - Series Temporales\n",
    "\n",
    "### Integrantes:\n",
    "\n",
    "- Mascitti, Julio Augusto - 954/11 - mascittija@gmail.com\n",
    "\n",
    "- Aleman, Damián - ###/## - usuario@dominio\n",
    "\n",
    "- Guerson, Matias Carlos - 925/10 - matias.guerson@gmail.com\n",
    "\n",
    "#### Introducción\n",
    "\n",
    "En este trabajo tenemos por objetivo trabajar con series temporlaes y grandes volúmenes de datos. Para lo mismo la catedra nos porporcionó un set de datos de Electroencefalogramas (EGGs) de 20 pacientes divididos en 2 grupos distinguibles. Estos datos fueron recolectados de mediciones realizadas por 256 electrodos ubicados en un casco que se conecta al paciente. El experimento conciste en estimular a los distintos pacientes conectados a los cascos para poder medir su reacción ante dicho estímulo.\n",
    "Para más detalles leer el enunciado, que cuenta con información sobre la técnica de electroencefalografía y cuenta con detalles sobre la implementación del experimento."
   ]
  },
  {
   "cell_type": "markdown",
   "metadata": {},
   "source": [
    "### Analisis preliminar de los datos"
   ]
  },
  {
   "cell_type": "code",
   "execution_count": null,
   "metadata": {
    "collapsed": true
   },
   "outputs": [],
   "source": [
    "import pandas as pd\n",
    "import numpy as np\n",
    "from scipy import signal\n",
    "from scipy.stats import entropy\n",
    "import scipy.io as io\n",
    "import scipy as sp\n",
    "import matplotlib\n",
    "import matplotlib.pyplot as plt\n",
    "import seaborn as sns\n",
    "%matplotlib inline\n",
    "matplotlib.style.use('ggplot')"
   ]
  },
  {
   "cell_type": "markdown",
   "metadata": {},
   "source": [
    "Importando los datos del primer paciente para familiarizarnos un poco con la información que disponemos"
   ]
  },
  {
   "cell_type": "code",
   "execution_count": null,
   "metadata": {
    "collapsed": true
   },
   "outputs": [],
   "source": [
    "# path = \"../../../../\"\n",
    "path = \"./\"\n",
    "\n",
    "data = io.loadmat('{}data/P01.mat'.format(path))\n",
    "\n",
    "matriz = data['data']\n",
    "print(matriz.shape)\n",
    "print(len(matriz))   # x = epochs\n",
    "print(len(matriz[0]))   # y = electrodos\n",
    "print(len(matriz[0][0]))   # z = muestras "
   ]
  },
  {
   "cell_type": "markdown",
   "metadata": {},
   "source": [
    "Disponemos de una matriz por paciente con 894 Epochs, 256 electrodos y 201 muestras"
   ]
  },
  {
   "cell_type": "code",
   "execution_count": null,
   "metadata": {
    "collapsed": true
   },
   "outputs": [],
   "source": [
    "electrodo8 = matriz[:,7,:]\n",
    "print(electrodo8.shape)\n",
    "print(electrodo8)"
   ]
  },
  {
   "cell_type": "markdown",
   "metadata": {},
   "source": [
    "El experimento conciste en estimular al paciente y ver su reacción.\n",
    "\n",
    "La grabación continua de 30 minutos es cortada tomando como parámetro el inicio de la estimulación auditiva (T0). Cada segmento (denominado epoch o trial) tiene una duración de 1.54 segundos y comienza 200 ms antes de T0. En otras palabras, cada epoch comienza en -0.200s y termina en 1.34s donde 0s es la ocurrencia de un estímulo auditivo.\n",
    "\n",
    "Algo interesante para ver, puede ser el promedio de los voltajes de los epochs para las 201 mediciones que tiene cada epoch para un electrodo en particular"
   ]
  },
  {
   "cell_type": "code",
   "execution_count": 1,
   "metadata": {},
   "outputs": [
    {
     "ename": "NameError",
     "evalue": "name 'electrodo8' is not defined",
     "output_type": "error",
     "traceback": [
      "\u001b[0;31m---------------------------------------------------------------------------\u001b[0m",
      "\u001b[0;31mNameError\u001b[0m                                 Traceback (most recent call last)",
      "\u001b[0;32m<ipython-input-1-e3dea5e51850>\u001b[0m in \u001b[0;36m<module>\u001b[0;34m()\u001b[0m\n\u001b[0;32m----> 1\u001b[0;31m \u001b[0mepoch_promedio\u001b[0m \u001b[0;34m=\u001b[0m \u001b[0melectrodo8\u001b[0m\u001b[0;34m.\u001b[0m\u001b[0mmean\u001b[0m\u001b[0;34m(\u001b[0m\u001b[0maxis\u001b[0m\u001b[0;34m=\u001b[0m\u001b[0;36m0\u001b[0m\u001b[0;34m)\u001b[0m\u001b[0;34m\u001b[0m\u001b[0m\n\u001b[0m\u001b[1;32m      2\u001b[0m \u001b[0mplt\u001b[0m\u001b[0;34m.\u001b[0m\u001b[0mplot\u001b[0m\u001b[0;34m(\u001b[0m\u001b[0mepoch_promedio\u001b[0m\u001b[0;34m)\u001b[0m\u001b[0;34m\u001b[0m\u001b[0m\n",
      "\u001b[0;31mNameError\u001b[0m: name 'electrodo8' is not defined"
     ]
    }
   ],
   "source": [
    "epoch_promedio = electrodo8.mean(axis=0)\n",
    "plt.plot(epoch_promedio)"
   ]
  },
  {
   "cell_type": "markdown",
   "metadata": {},
   "source": [
    "Calculemos Welch al Epoch_Promedio y veamos que podemos observar"
   ]
  },
  {
   "cell_type": "code",
   "execution_count": null,
   "metadata": {
    "collapsed": true
   },
   "outputs": [],
   "source": [
    "frec, power = signal.welch(x= epoch_promedio,fs = 250)\n",
    "print(frec)\n",
    "plt.plot(frec, power)"
   ]
  },
  {
   "cell_type": "markdown",
   "metadata": {},
   "source": [
    "Podemos apreciar un pico alrededor de lo 10 Hz"
   ]
  },
  {
   "cell_type": "markdown",
   "metadata": {},
   "source": [
    "## Análisis de frecuencias\n",
    "\n",
    "- Calcular la media entre los electrodos 8, 44, 80, 131 y 185 (el primer electrodo es el 0) y realizar una figura que muestre las frecuencias en el eje Y, los epochs en el eje X, y la potencia usando una escala de color."
   ]
  },
  {
   "cell_type": "code",
   "execution_count": null,
   "metadata": {
    "collapsed": true
   },
   "outputs": [],
   "source": [
    "from matplotlib.colors import LogNorm\n",
    "\n",
    "\n",
    "electrodo44 = matriz[:,43,:]\n",
    "electrodo80 = matriz[:,79,:]\n",
    "electrodo131 = matriz[:,130,:]\n",
    "electrodo185 = matriz[:,184,:]\n",
    "\n",
    "elec_promedio = np.array([electrodo8,electrodo44,electrodo80,electrodo131,electrodo185]).mean(axis=0)\n",
    "print(elec_promedio.shape)\n",
    "\n",
    "\n",
    "welchs = np.zeros((894,2,101))\n",
    "for i_epoch in range(len(elec_promedio)):\n",
    "    welchs[i_epoch] = signal.welch(x=elec_promedio[i_epoch], fs=250)\n",
    "print(welchs.shape)    \n",
    "\n",
    "#plt.plot(welchs[0,0,0:42],welchs[0,1,0:42])\n",
    "#print(welchs[0,1,:42])\n",
    "\n",
    "potencias = welchs[:,1,:42]\n"
   ]
  },
  {
   "cell_type": "code",
   "execution_count": null,
   "metadata": {
    "collapsed": true
   },
   "outputs": [],
   "source": [
    "#sns.heatmap(potencias.T, norm=LogNorm(vmin=1.0e-14, vmax=1.0e-08))\n",
    "#sns.plt.yticks(np.linspace(0,42,6), ['a','b','c','d','e','f'])\n",
    "#sns.plt.xticks(np.linspace(100,800))\n",
    "#sns.plt.show()\n",
    "#sns.heatmap(potencias.T)\n",
    "\n",
    "plt.axes([1,1,1,1])\n",
    "plt.grid(False)\n",
    "yticks = np.linspace(0,len(potencias[0]),10, dtype=np.int)\n",
    "plt.yticks(yticks, welchs[0,0,yticks])\n",
    "plt.imshow(potencias.T, interpolation='nearest', cmap='hot', origin='lower', aspect='auto', norm=LogNorm(vmin=1.0e-14, vmax=1.0e-08))\n",
    "plt.colorbar(shrink=.92)\n",
    "\n",
    "plt.show()"
   ]
  },
  {
   "cell_type": "markdown",
   "metadata": {},
   "source": [
    "- Calcular la potencia media (entre epochs) para cada frecuencia y graficar la potencia en funcion de la frecuencia para cada canal.\n"
   ]
  },
  {
   "cell_type": "code",
   "execution_count": null,
   "metadata": {
    "collapsed": true
   },
   "outputs": [],
   "source": [
    "welchs_by_elect_and_epoch = np.empty((256,894,2,101))\n",
    "\n",
    "for i_epoch in range(len(matriz)):\n",
    "    epoch = matriz[i_epoch]\n",
    "    for i_elect in range(len(epoch)):\n",
    "        f,p = signal.welch(x=epoch[i_elect], fs=250)\n",
    "        welchs_by_elect_and_epoch[i_elect,i_epoch] = np.array([f,p])"
   ]
  },
  {
   "cell_type": "code",
   "execution_count": null,
   "metadata": {
    "collapsed": true
   },
   "outputs": [],
   "source": [
    "#print(welchs_by_elect_and_epoch.shape)\n",
    "power_mean_between_epochs = welchs_by_elect_and_epoch.mean(axis=1)\n",
    "#print(power_mean_between_epochs.shape)\n",
    "\n",
    "for elect in power_mean_between_epochs:\n",
    "    plt.plot(elect[0,:42], elect[1,:42])\n",
    "\n",
    "plt.show()"
   ]
  },
  {
   "cell_type": "markdown",
   "metadata": {},
   "source": [
    "- Calcular los valores de cada banda de frecuencia, promediados entre los electrodos (todos) y epochs para cada sujeto."
   ]
  },
  {
   "cell_type": "code",
   "execution_count": null,
   "metadata": {
    "collapsed": true
   },
   "outputs": [],
   "source": [
    "ranges = [0,4,8,13,30,45]\n",
    "acums = np.zeros((5))\n",
    "counts = np.zeros((5))\n",
    "\n",
    "for i_band in range((len(ranges)-1)):\n",
    "    for elect in welchs_by_elect_and_epoch:\n",
    "        for epoch in elect:\n",
    "            for welch in range(len(epoch[0])):\n",
    "                if (epoch[0, welch] >= ranges[i_band]) and (epoch[0, welch] < ranges[i_band+1]):\n",
    "                    acums[i_band] += epoch[1, welch]\n",
    "                    counts[i_band] += 1\n",
    "            \n",
    "\n",
    "                \n",
    "print(acums)\n",
    "print(counts)"
   ]
  },
  {
   "cell_type": "code",
   "execution_count": null,
   "metadata": {
    "collapsed": true
   },
   "outputs": [],
   "source": [
    "bands_means = acums / counts\n",
    "bands_means"
   ]
  },
  {
   "cell_type": "code",
   "execution_count": null,
   "metadata": {
    "collapsed": true
   },
   "outputs": [],
   "source": [
    "# Alpha\n",
    "bands_means[2] "
   ]
  },
  {
   "cell_type": "markdown",
   "metadata": {},
   "source": [
    "- Tomar la potencia de cada sujeto en la banda Alpha y graficar cada uno de los graficos categóricos de seaborn.\n",
    "\n",
    "¿Cuál recomendaría para graficar y comparar distribuciones?"
   ]
  },
  {
   "cell_type": "code",
   "execution_count": null,
   "metadata": {
    "collapsed": true
   },
   "outputs": [],
   "source": [
    "def calculate_welchs(data):\n",
    "    welchs_by_elect_and_epoch = np.empty((256,len(data),2,101))\n",
    "\n",
    "    for i_epoch in range(len(data)):\n",
    "        epoch = data[i_epoch]\n",
    "        for i_elect in range(len(epoch)):\n",
    "            f,p = signal.welch(x=epoch[i_elect], fs=250)\n",
    "            welchs_by_elect_and_epoch[i_elect,i_epoch] = np.array([f,p])\n",
    "    \n",
    "    return welchs_by_elect_and_epoch"
   ]
  },
  {
   "cell_type": "code",
   "execution_count": null,
   "metadata": {
    "collapsed": true
   },
   "outputs": [],
   "source": [
    "def calculate_power_mean(welchs_by_elect_and_epoch, frequency_range):\n",
    "    freqs = welchs_by_elect_and_epoch[0,0,0,:]\n",
    "    alphas_idxs = np.where((freqs>=frequency_range[0]) * (freqs<frequency_range[1]))\n",
    "    alphas = welchs_by_elect_and_epoch[:,:,1,alphas_idxs]\n",
    "    alphas = alphas[:,:,0,:]\n",
    "    return alphas.mean()"
   ]
  },
  {
   "cell_type": "code",
   "execution_count": null,
   "metadata": {
    "collapsed": true
   },
   "outputs": [],
   "source": [
    "for t in ['P','S']:\n",
    "    for i in range(1,11):\n",
    "        try:\n",
    "            data_file = path.join('../../../../data/',t) + \"%02d\" % (i) + '.mat'\n",
    "            welch_file = 'welch_' + t + \"%02d\" % (i) + '.dmp'\n",
    "            print(data_file)\n",
    "            print(welch_file)\n",
    "            data = io.loadmat(data_file)['data']\n",
    "            print(data.shape)\n",
    "            welch = calculate_welchs(data)\n",
    "            welch.dump(welch_file)\n",
    "        except Exception as exception:\n",
    "            print(str(exception))\n",
    "            pass\n"
   ]
  },
  {
   "cell_type": "code",
   "execution_count": null,
   "metadata": {
    "collapsed": true
   },
   "outputs": [],
   "source": [
    "def load_welchs_and_calculate_power_means(frequency_range):\n",
    "\n",
    "    power_means = np.zeros((2,10))\n",
    "\n",
    "    for t in ['P','S']:\n",
    "        for i in range(1,11):\n",
    "            try:\n",
    "                welch_file = 'welch_' + t + \"%02d\" % (i) + '.dmp'\n",
    "                print(welch_file)\n",
    "                data = np.load(welch_file)\n",
    "                print(data.shape)\n",
    "                power_mean = calculate_power_mean(data, frequency_range)\n",
    "                row = 0 if(t == 'P') else 1\n",
    "                power_means[row, i-1] = power_mean\n",
    "            except Exception as exception:\n",
    "                print(str(exception))\n",
    "                pass\n",
    "\n",
    "    print(repr(power_means))\n",
    "    return power_means"
   ]
  },
  {
   "cell_type": "code",
   "execution_count": null,
   "metadata": {
    "collapsed": true
   },
   "outputs": [],
   "source": [
    "frequencies_ranges = {\"delta\": (0,4), \"theta\": (4,8), \"alpha\": (8,13), \"beta\": (13,30), \"gamma\": (30,125)}\n",
    "\n",
    "for name,frequency_range in frequencies_ranges.items():\n",
    "    frequency_power_means = load_welchs_and_calculate_power_means(frequency_range)\n",
    "    frequency_power_means.dump(name + 'power_means.dmp')\n"
   ]
  },
  {
   "cell_type": "code",
   "execution_count": null,
   "metadata": {
    "collapsed": true
   },
   "outputs": [],
   "source": [
    "alpha = np.load(\"alphapower_means.dmp\").T\n",
    "beta = np.load(\"betapower_means.dmp\").T\n",
    "gamma = np.load(\"gammapower_means.dmp\").T\n",
    "delta = np.load(\"deltapower_means.dmp\").T\n",
    "theta = np.load(\"thetapower_means.dmp\").T\n",
    "\n",
    "power_sum = alpha + beta + gamma + delta + theta\n",
    "\n",
    "alpha_norm = alpha / power_sum\n",
    "beta_norm = beta / power_sum\n",
    "gamma_norm = gamma / power_sum\n",
    "delta_norm = delta / power_sum\n",
    "theta_norm = theta / power_sum\n",
    "\n",
    "df = pd.DataFrame(alpha, columns=list('PS'))\n",
    "df"
   ]
  },
  {
   "cell_type": "markdown",
   "metadata": {},
   "source": [
    "### Stripplot"
   ]
  },
  {
   "cell_type": "code",
   "execution_count": null,
   "metadata": {
    "collapsed": true
   },
   "outputs": [],
   "source": [
    "ax = sns.stripplot(data=df)\n",
    "ax.set_autoscaley_on(True)\n",
    "ax.set_ylim(1e-14,6e-12)\n",
    "sns.plt.show()"
   ]
  },
  {
   "cell_type": "markdown",
   "metadata": {},
   "source": [
    "### Swarmplot"
   ]
  },
  {
   "cell_type": "code",
   "execution_count": null,
   "metadata": {
    "collapsed": true
   },
   "outputs": [],
   "source": [
    "ax = sns.swarmplot(data=df)\n",
    "ax.set_autoscaley_on(True)\n",
    "ax.set_ylim(1e-14,6e-12)\n",
    "sns.plt.show()"
   ]
  },
  {
   "cell_type": "markdown",
   "metadata": {},
   "source": [
    "### Boxplot"
   ]
  },
  {
   "cell_type": "code",
   "execution_count": null,
   "metadata": {
    "collapsed": true
   },
   "outputs": [],
   "source": [
    "ax = sns.boxplot(data=df)\n",
    "ax.set_autoscaley_on(True)\n",
    "sns.plt.show()"
   ]
  },
  {
   "cell_type": "markdown",
   "metadata": {},
   "source": [
    "### Violinplot"
   ]
  },
  {
   "cell_type": "code",
   "execution_count": null,
   "metadata": {
    "collapsed": true
   },
   "outputs": [],
   "source": [
    "ax = sns.violinplot(data=df)\n",
    "ax.set_autoscaley_on(True)\n",
    "sns.plt.show()"
   ]
  },
  {
   "cell_type": "markdown",
   "metadata": {},
   "source": [
    "### Lvplot"
   ]
  },
  {
   "cell_type": "code",
   "execution_count": null,
   "metadata": {
    "collapsed": true
   },
   "outputs": [],
   "source": [
    "ax = sns.lvplot(data=df)\n",
    "ax.set_autoscaley_on(True)\n",
    "sns.plt.show()"
   ]
  },
  {
   "cell_type": "markdown",
   "metadata": {},
   "source": [
    "### Pointplot"
   ]
  },
  {
   "cell_type": "code",
   "execution_count": null,
   "metadata": {
    "collapsed": true
   },
   "outputs": [],
   "source": [
    "ax = sns.pointplot(data=df)\n",
    "ax.set_autoscaley_on(True)\n",
    "sns.plt.show()"
   ]
  },
  {
   "cell_type": "markdown",
   "metadata": {},
   "source": [
    "### Barplot"
   ]
  },
  {
   "cell_type": "code",
   "execution_count": null,
   "metadata": {
    "collapsed": true
   },
   "outputs": [],
   "source": [
    "ax = sns.barplot(data=df)\n",
    "ax.set_autoscaley_on(True)\n",
    "sns.plt.show()"
   ]
  },
  {
   "cell_type": "markdown",
   "metadata": {},
   "source": [
    "Pensamos que el que más información aporta a simple vista sin entrar en muchos detalles es el ViolinPlot. Por lo tanto los proximos puntos vamos a realizarlos con este gráfico.\n",
    "\n",
    "- Para cada banda de frecuencia, graficar según lo elegido en el punto c) y realizar un test estadístico apropiado."
   ]
  },
  {
   "cell_type": "code",
   "execution_count": null,
   "metadata": {
    "collapsed": true
   },
   "outputs": [],
   "source": [
    "def plot_violin(df):\n",
    "    ax = sns.violinplot(data=df)\n",
    "    ax.set_autoscaley_on(True)\n",
    "    sns.plt.show()\n",
    "    \n",
    "def test_same_mean(data1, data2):\n",
    "    t, p_value = sp.stats.ttest_rel(data1, data2)\n",
    "    print(p_value)\n",
    "    return \"No hay evidencia suficiente para rechazar la hipotesis nula\" if (p_value > 0.05) else \"Se rechaza la hipotesis nula\""
   ]
  },
  {
   "cell_type": "markdown",
   "metadata": {},
   "source": [
    "#### Banda Delta (Delta < 4 Hz)"
   ]
  },
  {
   "cell_type": "code",
   "execution_count": null,
   "metadata": {
    "collapsed": true
   },
   "outputs": [],
   "source": [
    "df = pd.DataFrame(delta, columns=list('PS'))\n",
    "plot_violin(df)\n",
    "\n",
    "print(test_same_mean(df['P'], df['S']))\n",
    "\n",
    "df = pd.DataFrame(delta_norm, columns=list('PS'))\n",
    "plot_violin(df)\n",
    "\n",
    "print(test_same_mean(df['P'], df['S']))"
   ]
  },
  {
   "cell_type": "markdown",
   "metadata": {},
   "source": [
    "#### Banda Theta (4 Hz <= Theta < 8 Hz)"
   ]
  },
  {
   "cell_type": "code",
   "execution_count": null,
   "metadata": {
    "collapsed": true
   },
   "outputs": [],
   "source": [
    "df = pd.DataFrame(theta, columns=list('PS'))\n",
    "plot_violin(df)\n",
    "\n",
    "print(test_same_mean(df['P'], df['S']))\n",
    "\n",
    "df = pd.DataFrame(theta_norm, columns=list('PS'))\n",
    "plot_violin(df)\n",
    "\n",
    "print(test_same_mean(df['P'], df['S']))"
   ]
  },
  {
   "cell_type": "markdown",
   "metadata": {},
   "source": [
    "#### Banda Beta (13 Hz <= Beta < 30 Hz)"
   ]
  },
  {
   "cell_type": "code",
   "execution_count": null,
   "metadata": {
    "collapsed": true
   },
   "outputs": [],
   "source": [
    "df = pd.DataFrame(beta, columns=list('PS'))\n",
    "plot_violin(df)\n",
    "\n",
    "print(test_same_mean(df['P'], df['S']))\n",
    "\n",
    "df = pd.DataFrame(beta_norm, columns=list('PS'))\n",
    "plot_violin(df)\n",
    "\n",
    "print(test_same_mean(df['P'], df['S']))"
   ]
  },
  {
   "cell_type": "markdown",
   "metadata": {},
   "source": [
    "#### Banda Gamma (30 Hz <= Gamma < Nyquist)"
   ]
  },
  {
   "cell_type": "code",
   "execution_count": null,
   "metadata": {
    "collapsed": true
   },
   "outputs": [],
   "source": [
    "df = pd.DataFrame(gamma, columns=list('PS'))\n",
    "plot_violin(df)\n",
    "\n",
    "print(test_same_mean(df['P'], df['S']))\n",
    "\n",
    "df = pd.DataFrame(gamma_norm, columns=list('PS'))\n",
    "plot_violin(df)\n",
    "\n",
    "print(test_same_mean(df['P'], df['S']))"
   ]
  },
  {
   "cell_type": "markdown",
   "metadata": {},
   "source": [
    "## Análisis de Información\n",
    "\n",
    "- Computar una medida de información intra-electrodo. Calcular la media entre canales y epochs para cada sujeto. Realizar el gráfico elegido en el punto c) de la sección anterior, acompañado del test estadístico apropiado."
   ]
  },
  {
   "cell_type": "code",
   "execution_count": null,
   "metadata": {
    "collapsed": true
   },
   "outputs": [],
   "source": [
    "pows = []\n",
    "freqs = []\n",
    "pacientes = [1]\n",
    "for elect in welchs_by_elect_and_epoch:\n",
    "    for epoch in elect:\n",
    "        for welch in range(len(epoch[0])):\n",
    "            if (epoch[0, welch] >= 8) and (epoch[0, welch] < 13):\n",
    "                freqs.append(epoch[0, welch])\n",
    "                pows.append(epoch[1, welch])\n"
   ]
  },
  {
   "cell_type": "code",
   "execution_count": null,
   "metadata": {
    "collapsed": true
   },
   "outputs": [],
   "source": [
    "from scipy.stats import binned_statistic\n",
    "# calculo el electrodo promedio\n",
    "elec = matriz[:,1,:]\n",
    "\n",
    "#discritizo los valores de amplitud (voltajes) en bins mediante la regla de Freedman-Diaconis.\n",
    "bins =  (np.histogram(elec, bins='fd',density=False))\n",
    "# bins tiene las cantidades de cada amplitud en los distintos bins [0] y las respuectivas frecuencias asociadas\n",
    "#bins\n",
    "#entropy(bins[0])\n",
    "bins"
   ]
  },
  {
   "cell_type": "code",
   "execution_count": null,
   "metadata": {
    "collapsed": true
   },
   "outputs": [],
   "source": [
    "def cantidad_informacion(elec):\n",
    "    bins =  (np.histogram(elec, bins='fd',density=False)) \n",
    "    return entropy(bins[0])\n",
    "\n",
    "# cantidad_informacion(matriz[:,1,:].mean(axis=0))"
   ]
  },
  {
   "cell_type": "code",
   "execution_count": null,
   "metadata": {
    "collapsed": true
   },
   "outputs": [],
   "source": [
    "\n",
    "def cantidad_informacion_sujeto(matriz):\n",
    "    cant_inf = []\n",
    "    for i in range(matriz.shape[1]):\n",
    "        cant_inf.append(cantidad_informacion(matriz[:,i,:]))\n",
    "# plt.plot(cant_inf)\n",
    "    return np.array(cant_inf).mean()\n",
    "\n",
    "\n",
    "#plot de todas las cantidades de informacion por electrodo"
   ]
  },
  {
   "cell_type": "code",
   "execution_count": null,
   "metadata": {
    "collapsed": true
   },
   "outputs": [],
   "source": [
    "mediasP = []\n",
    "mediasS = []\n",
    "for l in ['P','S']:\n",
    "    for i in range(1,11):\n",
    "        dat = io.loadmat('{0}data/{1}%02d.mat'.format(path,l) %i)\n",
    "        mat = dat['data']\n",
    "        media = cantidad_informacion_sujeto(mat)\n",
    "        if l=='P':\n",
    "            mediasP.append(media)\n",
    "        else:\n",
    "            mediasS.append(media)"
   ]
  },
  {
   "cell_type": "code",
   "execution_count": null,
   "metadata": {
    "collapsed": true
   },
   "outputs": [],
   "source": [
    "medias = pd.DataFrame({\"P\":mediasP,\"S\":mediasS})"
   ]
  },
  {
   "cell_type": "code",
   "execution_count": null,
   "metadata": {
    "collapsed": true
   },
   "outputs": [],
   "source": [
    "df = pd.DataFrame(medias, columns=list('PS'))\n",
    "plot_violin(df)\n",
    "\n",
    "print(test_same_mean(df['P'], df['S']))"
   ]
  },
  {
   "cell_type": "code",
   "execution_count": null,
   "metadata": {
    "collapsed": true
   },
   "outputs": [],
   "source": [
    "electrodo44 = matriz[:,43,:]\n",
    "electrodo80 = matriz[:,79,:]\n",
    "electrodo131 = matriz[:,130,:]\n",
    "electrodo185 = matriz[:,184,:]\n",
    "\n",
    "infs = []\n",
    "infs.append(cantidad_informacion(electrodo44))\n",
    "infs.append(cantidad_informacion(electrodo80))\n",
    "infs.append(cantidad_informacion(electrodo131))\n",
    "infs.append(cantidad_informacion(electrodo185))\n",
    "plt.plot(infs)"
   ]
  },
  {
   "cell_type": "code",
   "execution_count": null,
   "metadata": {
    "collapsed": true
   },
   "outputs": [],
   "source": [
    "#calcular la media entre canales y epochs\n",
    "\n",
    "sns.stripplot(media)\n",
    "matriz.nbytes"
   ]
  },
  {
   "cell_type": "code",
   "execution_count": null,
   "metadata": {
    "collapsed": true
   },
   "outputs": [],
   "source": [
    "mediasP = []\n",
    "mediasS = []\n",
    "for l in ['P','S']:\n",
    "    for i in range(1,11):\n",
    "        dat = io.loadmat('{0}data/{1}%02d.mat'.format(path,l) %i)\n",
    "        mat = dat['data']\n",
    "        media = mat.mean(axis=0).mean(axis=0)\n",
    "        if l=='P':\n",
    "            mediasP.append(media)\n",
    "        else:\n",
    "            mediasS.append(media)\n",
    "\n"
   ]
  },
  {
   "cell_type": "code",
   "execution_count": null,
   "metadata": {
    "collapsed": true
   },
   "outputs": [],
   "source": [
    "ax =sns.stripplot(y=mediasP[0]) # habria que agregar la de los otros pacientes\n",
    "ax.set_yscale('log')\n",
    "ax.set_ylim(1e-10,1e-7)"
   ]
  },
  {
   "cell_type": "code",
   "execution_count": null,
   "metadata": {
    "collapsed": true
   },
   "outputs": [],
   "source": [
    "np.histogram(elec1)[0]"
   ]
  },
  {
   "cell_type": "code",
   "execution_count": null,
   "metadata": {
    "collapsed": true
   },
   "outputs": [],
   "source": []
  },
  {
   "cell_type": "markdown",
   "metadata": {},
   "source": [
    "- Repetir el punto a) para una medida inter-electrodo."
   ]
  },
  {
   "cell_type": "code",
   "execution_count": null,
   "metadata": {
    "collapsed": true
   },
   "outputs": [],
   "source": [
    "def informacion_mutua(elec1, elec2):\n",
    "    bins_pares = np.histogram2d(elec1.flatten(), elec2.flatten())[0]\n",
    "    bins_elec1  = np.histogram(elec1, bins='fd')[0]\n",
    "    bins_elec2  = np.histogram(elec2, bins='fd')[0]\n",
    "    \n",
    "    H_xy = entropy(bins_pares.flatten())\n",
    "#     print(str(H_xy),\"entropia conjunta\")\n",
    "    H_x  = entropy(bins_elec1)\n",
    "#     print(str(H_x),\"entropia x\")\n",
    "    H_y  = entropy(bins_elec2)\n",
    "#     print(str(H_y),\"entropia y\")\n",
    "    \n",
    "    return H_x + H_y - H_xy"
   ]
  },
  {
   "cell_type": "code",
   "execution_count": null,
   "metadata": {
    "collapsed": true
   },
   "outputs": [],
   "source": [
    "# calculo la medida de informacion inter electrodo\n",
    "cant_inf2d = []\n",
    "for i in [43,79,130,184]:\n",
    "    for j in [43,79,130,184]:\n",
    "        if i!=j:\n",
    "            cant_inf2d.append(informacion_mutua(matriz[:,i,:],matriz[:,j,:]))\n",
    "plt.plot(cant_inf2d)"
   ]
  },
  {
   "cell_type": "code",
   "execution_count": null,
   "metadata": {
    "collapsed": true
   },
   "outputs": [],
   "source": [
    "cantidad_informacion2d(matriz[:,5,:],matriz[:,6,:])"
   ]
  }
 ],
 "metadata": {
  "kernelspec": {
   "display_name": "Python 3",
   "language": "python",
   "name": "python3"
  },
  "language_info": {
   "codemirror_mode": {
    "name": "ipython",
    "version": 3
   },
   "file_extension": ".py",
   "mimetype": "text/x-python",
   "name": "python",
   "nbconvert_exporter": "python",
   "pygments_lexer": "ipython3",
   "version": "3.6.1"
  }
 },
 "nbformat": 4,
 "nbformat_minor": 2
}
